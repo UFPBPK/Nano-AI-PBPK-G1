{
  "cells": [
    {
      "cell_type": "markdown",
      "metadata": {
        "id": "hor4d6I5SLbS"
      },
      "source": [
        "# AI-PBPK model project: hyperparameters tuning with BayesSearchCV \n",
        "Author: Wei-Chun Chou  \n",
        "Date created: 2022/06/09  \n",
        "Description: In this study, we used lightGBM and Deep nerual network model to predict the require parameter which can be inputed into the PBPK model  \n"
      ]
    },
    {
      "cell_type": "markdown",
      "metadata": {
        "id": "58pDV7v7cPLz"
      },
      "source": [
        "# Install and import required python pacakges"
      ]
    },
    {
      "cell_type": "code",
      "execution_count": null,
      "metadata": {
        "id": "wKlJya_nYv-p"
      },
      "outputs": [],
      "source": [
        "# Install python pacakges\n",
        "#!pip install pycaret==2.3.10 markupsafe==2.0.1 pyyaml==5.4.1 -qq\n",
        "!pip install -q lightgbm # install the lightgbm package\n",
        "!pip install -q scikit-optimize # install the package used for Bayesian optimization\n",
        "!pip install -q scikeras[tensorflow]\n",
        "!pip install -q keras-tuner"
      ]
    },
    {
      "cell_type": "code",
      "execution_count": null,
      "metadata": {
        "id": "BCuWQXqSapTf"
      },
      "outputs": [],
      "source": [
        "#Install basic python pcakges\n",
        "import math\n",
        "import numpy as np\n",
        "import pandas as pd\n",
        "import matplotlib.pyplot as plt\n",
        "%matplotlib inline\n",
        "import os\n",
        "from sklearn.model_selection import train_test_split, cross_val_score, cross_val_predict\n",
        "from sklearn.model_selection import KFold, StratifiedKFold\n",
        "from sklearn.metrics import mean_squared_log_error\n",
        "from sklearn import preprocessing\n",
        "from sklearn.preprocessing import StandardScaler\n",
        "from sklearn.impute import SimpleImputer\n",
        "from time import time"
      ]
    },
    {
      "cell_type": "markdown",
      "metadata": {
        "id": "9Rm-dOROZUS7"
      },
      "source": [
        "# Link to google drive and set up your project folder"
      ]
    },
    {
      "cell_type": "code",
      "execution_count": null,
      "metadata": {
        "colab": {
          "base_uri": "https://localhost:8080/"
        },
        "id": "8ZkkXjpxZZFQ",
        "outputId": "ebb92ba3-32e8-4239-cc63-003a86f3d0f9"
      },
      "outputs": [
        {
          "output_type": "stream",
          "name": "stdout",
          "text": [
            "Mounted at /content/drive\n"
          ]
        }
      ],
      "source": [
        "#Mount drive to google colab\n",
        "from google.colab import drive\n",
        "drive.mount('/content/drive', force_remount=True)\n",
        "\n",
        "# Set your working directory to a speicifc folder in your Google Drive\n",
        "# The base Google Drive directory\n",
        "root_dir = \"/content/drive/My Drive/Colab Notebooks/AI-Toxicology\"\n",
        "\n",
        "# choose where you want your project files to be saved\n",
        "project_folder = \"/Project_2_AI-PBPK/\" # Name your project here. Please instead the \"my project folder\" to your prefer name\n",
        "\n",
        "# Make sure that floder exists. If not, automatically create a new folder\n",
        "if (not os.path.isdir(root_dir + project_folder)):\n",
        "  os.mkdir(root_dir + project_folder)\n",
        "  print(root_dir + project_folder + 'did not exist but was created.')\n",
        "\n",
        "# Change the OS to use your project folder as the working directory\n",
        "os.chdir(root_dir + project_folder)"
      ]
    },
    {
      "cell_type": "markdown",
      "metadata": {
        "id": "eUHWGwQGZ5vg"
      },
      "source": [
        "# Data exploration"
      ]
    },
    {
      "cell_type": "code",
      "execution_count": null,
      "metadata": {
        "id": "o7Vgo360Z7zc"
      },
      "outputs": [],
      "source": [
        "# importer Data\n",
        "Data = pd.read_csv(os.path.join(root_dir + project_folder + \"Data.csv\"))"
      ]
    },
    {
      "cell_type": "markdown",
      "metadata": {
        "id": "OMB4qMCBZIfh"
      },
      "source": [
        "# Data preprocessing I: missing Values  \n",
        "Most Machine leanring algorithms canot work with missing features. So, we need to use `SimpleImputer` to replace missing values with median, mean or frequently used values."
      ]
    },
    {
      "cell_type": "code",
      "execution_count": null,
      "metadata": {
        "colab": {
          "base_uri": "https://localhost:8080/"
        },
        "id": "8jpaQvf0ZIHN",
        "outputId": "8284eb2d-9263-4e2a-89dc-6d5b898fc79b"
      },
      "outputs": [
        {
          "output_type": "execute_result",
          "data": {
            "text/plain": [
              "ID               0\n",
              "Type             0\n",
              "TS               0\n",
              "HD              36\n",
              "Zeta            44\n",
              "Charge          40\n",
              "Shape            0\n",
              "TM               0\n",
              "CT               0\n",
              "TSz             31\n",
              "TW               0\n",
              "Dose             0\n",
              "BW               0\n",
              "DE24             0\n",
              "DE168            0\n",
              "Demax            0\n",
              "KTRESrelease     0\n",
              "KTRESmax         0\n",
              "KTRES50          0\n",
              "KTRESn           0\n",
              "dtype: int64"
            ]
          },
          "metadata": {},
          "execution_count": 24
        }
      ],
      "source": [
        "# see how many missing values in your dataset\n",
        "Data.isna().sum()"
      ]
    },
    {
      "cell_type": "code",
      "execution_count": null,
      "metadata": {
        "id": "eqRmHwbIT_mI"
      },
      "outputs": [],
      "source": [
        "# Remove the row with missing data\n",
        "Data=Data.dropna() # you can use 'subset' (e.g., dropna(subset='HD')) to remove the missing value in specific column"
      ]
    },
    {
      "cell_type": "code",
      "source": [
        "df = pd.DataFrame(Data)\n",
        "df_X = df[[\"Type\",\"TS\",\"HD\",\"Zeta\",\"Charge\",\"Shape\", \"TM\", \"CT\", \"TSz\", \"TW\"]]\n",
        "df_y = df[[\"KTRESrelease\",\"KTRESn\",\"KTRESmax\", \"KTRES50\"]]"
      ],
      "metadata": {
        "id": "co78bDfayL20"
      },
      "execution_count": null,
      "outputs": []
    },
    {
      "cell_type": "code",
      "execution_count": null,
      "metadata": {
        "id": "qGgYnneRR4ta"
      },
      "outputs": [],
      "source": [
        "## Replace mising value with \"Mean\" or \"Frequency values\"\n",
        "imputer_mean = SimpleImputer(strategy='mean', missing_values=np.nan)\n",
        "imputer_freq = SimpleImputer(strategy='most_frequent', missing_values=np.nan)\n",
        "cols_num = ['HD','Zeta',\"TSz\",'TW']\n",
        "cols_label = ['Type','TS','Charge','Shape','TM','CT']\n",
        "\n",
        "imputer_mean = imputer_mean.fit(df_X[cols_num])\n",
        "imputer_freq = imputer_freq.fit(df_X[cols_label])\n",
        "df_X[cols_num] = imputer_mean.transform(df_X[cols_num])\n",
        "df_X[cols_label] = imputer_freq.transform(df_X[cols_label])\n"
      ]
    },
    {
      "cell_type": "markdown",
      "metadata": {
        "id": "hHk_ilEgVsTh"
      },
      "source": [
        "# 3. Taking care of Categorical Features\n"
      ]
    },
    {
      "cell_type": "code",
      "execution_count": null,
      "metadata": {
        "id": "EN-rRyZuz9oG"
      },
      "outputs": [],
      "source": [
        "test_X = df_X"
      ]
    },
    {
      "cell_type": "code",
      "execution_count": null,
      "metadata": {
        "id": "LbQesdjAVuXJ",
        "colab": {
          "base_uri": "https://localhost:8080/"
        },
        "outputId": "644972ab-099c-45a0-d4ba-32500e561a38"
      },
      "outputs": [
        {
          "output_type": "stream",
          "name": "stdout",
          "text": [
            "     Type  TS     HD  Zeta  Charge  Shape  TM  CT    TSz     TW\n",
            "4       1   0   68.4   9.3       0      2   3  13  0.175  0.210\n",
            "5       1   1  166.0   6.0       0      6   4  16  1.100  1.320\n",
            "6       1   0  175.6   5.0       0      6   4  16  1.100  1.320\n",
            "7       1   1  104.2  10.0       0      6   4  16  1.100  1.320\n",
            "8       1   1   64.2  15.0       0      6   4  16  1.100  1.320\n",
            "..    ...  ..    ...   ...     ...    ...  ..  ..    ...    ...\n",
            "373     2   1   92.0   0.0       2      6   3   1  0.530  0.636\n",
            "374     2   1   92.0   0.0       2      6   3   1  0.530  0.636\n",
            "375     2   1   92.0   0.0       2      6   3   1  0.530  0.636\n",
            "376     2   1  122.5  13.2       0      6   3   6  0.300  0.360\n",
            "377     2   1  190.5  10.1       0      4   1  11  0.100  0.120\n",
            "\n",
            "[288 rows x 10 columns]\n"
          ]
        }
      ],
      "source": [
        "from sklearn.preprocessing import LabelEncoder\n",
        "\n",
        "# Encode labels of multiple columns at once\n",
        "test_X[cols_label] = test_X[cols_label].apply(LabelEncoder().fit_transform)\n",
        "\n",
        "print(test_X)"
      ]
    },
    {
      "cell_type": "markdown",
      "metadata": {
        "id": "9wiZI76Qkf8H"
      },
      "source": [
        "# 4. Model normalization\n"
      ]
    },
    {
      "cell_type": "code",
      "execution_count": null,
      "metadata": {
        "id": "7tvIrzNGYsYP",
        "colab": {
          "base_uri": "https://localhost:8080/"
        },
        "outputId": "c955093a-e4fe-434a-c782-cabd8e34013a"
      },
      "outputs": [
        {
          "output_type": "stream",
          "name": "stdout",
          "text": [
            "           HD      Zeta       TSz        TW\n",
            "0    0.139468  0.033917  0.087079  0.087079\n",
            "1    0.355876  0.021882  0.606742  0.606742\n",
            "2    0.377162  0.018235  0.606742  0.606742\n",
            "3    0.218847  0.036470  0.606742  0.606742\n",
            "4    0.130155  0.054705  0.606742  0.606742\n",
            "..        ...       ...       ...       ...\n",
            "283  0.191796  0.000000  0.286517  0.286517\n",
            "284  0.191796  0.000000  0.286517  0.286517\n",
            "285  0.191796  0.000000  0.286517  0.286517\n",
            "286  0.259424  0.048140  0.157303  0.157303\n",
            "287  0.410200  0.036834  0.044944  0.044944\n",
            "\n",
            "[288 rows x 4 columns]\n"
          ]
        }
      ],
      "source": [
        "from sklearn.pipeline import Pipeline\n",
        "from sklearn.preprocessing import StandardScaler, MinMaxScaler\n",
        "from sklearn.impute import SimpleImputer\n",
        "cols_num = ['HD','Zeta',\"TSz\",\"TW\"]\n",
        "\n",
        "scaler = StandardScaler()\n",
        "mscaler = MinMaxScaler()\n",
        "\n",
        "Data_num_tr = pd.DataFrame(mscaler.fit_transform(test_X[cols_num]))\n",
        "Data_num_tr.columns = list(test_X[cols_num].columns)\n",
        "print(Data_num_tr)"
      ]
    },
    {
      "cell_type": "markdown",
      "metadata": {
        "id": "Ojg8DNmXvhTL"
      },
      "source": [
        "# Onehot encoder"
      ]
    },
    {
      "cell_type": "code",
      "execution_count": null,
      "metadata": {
        "colab": {
          "base_uri": "https://localhost:8080/"
        },
        "id": "EpWvmFhZvkip",
        "outputId": "46f9effe-8708-47bd-f1dd-fbf6e7e88873"
      },
      "outputs": [
        {
          "output_type": "stream",
          "name": "stdout",
          "text": [
            "     TS_0  TS_1  TS_2  TS_3  TM_0  TM_1  TM_2  TM_3  TM_4  CT_0  ...  CT_15  \\\n",
            "0     1.0   0.0   0.0   0.0   0.0   0.0   0.0   1.0   0.0   0.0  ...    0.0   \n",
            "1     0.0   1.0   0.0   0.0   0.0   0.0   0.0   0.0   1.0   0.0  ...    0.0   \n",
            "2     1.0   0.0   0.0   0.0   0.0   0.0   0.0   0.0   1.0   0.0  ...    0.0   \n",
            "3     0.0   1.0   0.0   0.0   0.0   0.0   0.0   0.0   1.0   0.0  ...    0.0   \n",
            "4     0.0   1.0   0.0   0.0   0.0   0.0   0.0   0.0   1.0   0.0  ...    0.0   \n",
            "..    ...   ...   ...   ...   ...   ...   ...   ...   ...   ...  ...    ...   \n",
            "283   0.0   1.0   0.0   0.0   0.0   0.0   0.0   1.0   0.0   0.0  ...    0.0   \n",
            "284   0.0   1.0   0.0   0.0   0.0   0.0   0.0   1.0   0.0   0.0  ...    0.0   \n",
            "285   0.0   1.0   0.0   0.0   0.0   0.0   0.0   1.0   0.0   0.0  ...    0.0   \n",
            "286   0.0   1.0   0.0   0.0   0.0   0.0   0.0   1.0   0.0   0.0  ...    0.0   \n",
            "287   0.0   1.0   0.0   0.0   0.0   1.0   0.0   0.0   0.0   0.0  ...    0.0   \n",
            "\n",
            "     CT_16  CT_17  Shape_0  Shape_1  Shape_2  Shape_3  Shape_4  Shape_5  \\\n",
            "0      0.0    0.0      0.0      0.0      1.0      0.0      0.0      0.0   \n",
            "1      1.0    0.0      0.0      0.0      0.0      0.0      0.0      0.0   \n",
            "2      1.0    0.0      0.0      0.0      0.0      0.0      0.0      0.0   \n",
            "3      1.0    0.0      0.0      0.0      0.0      0.0      0.0      0.0   \n",
            "4      1.0    0.0      0.0      0.0      0.0      0.0      0.0      0.0   \n",
            "..     ...    ...      ...      ...      ...      ...      ...      ...   \n",
            "283    0.0    0.0      0.0      0.0      0.0      0.0      0.0      0.0   \n",
            "284    0.0    0.0      0.0      0.0      0.0      0.0      0.0      0.0   \n",
            "285    0.0    0.0      0.0      0.0      0.0      0.0      0.0      0.0   \n",
            "286    0.0    0.0      0.0      0.0      0.0      0.0      0.0      0.0   \n",
            "287    0.0    0.0      0.0      0.0      0.0      0.0      1.0      0.0   \n",
            "\n",
            "     Shape_6  \n",
            "0        0.0  \n",
            "1        1.0  \n",
            "2        1.0  \n",
            "3        1.0  \n",
            "4        1.0  \n",
            "..       ...  \n",
            "283      1.0  \n",
            "284      1.0  \n",
            "285      1.0  \n",
            "286      1.0  \n",
            "287      0.0  \n",
            "\n",
            "[288 rows x 34 columns]\n"
          ]
        }
      ],
      "source": [
        "from sklearn.preprocessing import OneHotEncoder\n",
        "\n",
        "cat_encoder = OneHotEncoder(sparse=False)\n",
        "cols_label_1hot = ['TS','TM',\"CT\",'Shape']\n",
        "data_cat_1hot = pd.DataFrame(cat_encoder.fit_transform(test_X[cols_label_1hot]))\n",
        "data_cat_1hot.columns = cat_encoder.get_feature_names(cols_label_1hot)\n",
        "\n",
        "print(data_cat_1hot)"
      ]
    },
    {
      "cell_type": "code",
      "execution_count": null,
      "metadata": {
        "colab": {
          "base_uri": "https://localhost:8080/"
        },
        "id": "cbU01eLqx1TY",
        "outputId": "587adbb6-3c93-417d-b9be-e92244441b24"
      },
      "outputs": [
        {
          "output_type": "stream",
          "name": "stdout",
          "text": [
            "           HD      Zeta       TSz        TW  TS_0  TS_1  TS_2  TS_3  TM_0  \\\n",
            "0    0.139468  0.033917  0.087079  0.087079   1.0   0.0   0.0   0.0   0.0   \n",
            "1    0.355876  0.021882  0.606742  0.606742   0.0   1.0   0.0   0.0   0.0   \n",
            "2    0.377162  0.018235  0.606742  0.606742   1.0   0.0   0.0   0.0   0.0   \n",
            "3    0.218847  0.036470  0.606742  0.606742   0.0   1.0   0.0   0.0   0.0   \n",
            "4    0.130155  0.054705  0.606742  0.606742   0.0   1.0   0.0   0.0   0.0   \n",
            "..        ...       ...       ...       ...   ...   ...   ...   ...   ...   \n",
            "283  0.191796  0.000000  0.286517  0.286517   0.0   1.0   0.0   0.0   0.0   \n",
            "284  0.191796  0.000000  0.286517  0.286517   0.0   1.0   0.0   0.0   0.0   \n",
            "285  0.191796  0.000000  0.286517  0.286517   0.0   1.0   0.0   0.0   0.0   \n",
            "286  0.259424  0.048140  0.157303  0.157303   0.0   1.0   0.0   0.0   0.0   \n",
            "287  0.410200  0.036834  0.044944  0.044944   0.0   1.0   0.0   0.0   0.0   \n",
            "\n",
            "     TM_1  ...  CT_15  CT_16  CT_17  Shape_0  Shape_1  Shape_2  Shape_3  \\\n",
            "0     0.0  ...    0.0    0.0    0.0      0.0      0.0      1.0      0.0   \n",
            "1     0.0  ...    0.0    1.0    0.0      0.0      0.0      0.0      0.0   \n",
            "2     0.0  ...    0.0    1.0    0.0      0.0      0.0      0.0      0.0   \n",
            "3     0.0  ...    0.0    1.0    0.0      0.0      0.0      0.0      0.0   \n",
            "4     0.0  ...    0.0    1.0    0.0      0.0      0.0      0.0      0.0   \n",
            "..    ...  ...    ...    ...    ...      ...      ...      ...      ...   \n",
            "283   0.0  ...    0.0    0.0    0.0      0.0      0.0      0.0      0.0   \n",
            "284   0.0  ...    0.0    0.0    0.0      0.0      0.0      0.0      0.0   \n",
            "285   0.0  ...    0.0    0.0    0.0      0.0      0.0      0.0      0.0   \n",
            "286   0.0  ...    0.0    0.0    0.0      0.0      0.0      0.0      0.0   \n",
            "287   1.0  ...    0.0    0.0    0.0      0.0      0.0      0.0      0.0   \n",
            "\n",
            "     Shape_4  Shape_5  Shape_6  \n",
            "0        0.0      0.0      0.0  \n",
            "1        0.0      0.0      1.0  \n",
            "2        0.0      0.0      1.0  \n",
            "3        0.0      0.0      1.0  \n",
            "4        0.0      0.0      1.0  \n",
            "..       ...      ...      ...  \n",
            "283      0.0      0.0      1.0  \n",
            "284      0.0      0.0      1.0  \n",
            "285      0.0      0.0      1.0  \n",
            "286      0.0      0.0      1.0  \n",
            "287      1.0      0.0      0.0  \n",
            "\n",
            "[288 rows x 38 columns]\n"
          ]
        }
      ],
      "source": [
        "cols_label_bi = ['Type',\"TS\",'Charge']\n",
        "data_cat_bi = test_X[cols_label_bi]\n",
        "preData=pd.concat([Data_num_tr, data_cat_1hot], axis=1)\n",
        "print(preData)"
      ]
    },
    {
      "cell_type": "markdown",
      "metadata": {
        "id": "UuxtXCCMMNqh"
      },
      "source": [
        "# Feature selection"
      ]
    },
    {
      "cell_type": "code",
      "execution_count": null,
      "metadata": {
        "colab": {
          "base_uri": "https://localhost:8080/"
        },
        "id": "5HIlb7ZSMP3u",
        "outputId": "43d4ba05-984f-451a-add8-84df30c388ad"
      },
      "outputs": [
        {
          "output_type": "stream",
          "name": "stdout",
          "text": [
            "     CT_1  CT_6  CT_12  CT_17  Shape_1\n",
            "0     0.0   0.0    0.0    0.0      0.0\n",
            "1     0.0   0.0    0.0    0.0      0.0\n",
            "2     0.0   0.0    0.0    0.0      0.0\n",
            "3     0.0   0.0    0.0    0.0      0.0\n",
            "4     0.0   0.0    0.0    0.0      0.0\n",
            "..    ...   ...    ...    ...      ...\n",
            "283   1.0   0.0    0.0    0.0      0.0\n",
            "284   1.0   0.0    0.0    0.0      0.0\n",
            "285   1.0   0.0    0.0    0.0      0.0\n",
            "286   0.0   1.0    0.0    0.0      0.0\n",
            "287   0.0   0.0    0.0    0.0      0.0\n",
            "\n",
            "[288 rows x 5 columns]\n"
          ]
        }
      ],
      "source": [
        "# pearson's correlation feature selection for numeric input and numeric output\n",
        "from sklearn.datasets import make_regression\n",
        "from sklearn.feature_selection import SelectKBest\n",
        "from sklearn.feature_selection import f_regression\n",
        "# generate dataset\n",
        "#X, y = make_regression(n_samples=100, n_features=100, n_informative=10)\n",
        "# define feature selection\n",
        "fs = SelectKBest(score_func=f_regression, k=5)\n",
        "# apply feature selection\n",
        "X_selected = pd.DataFrame(fs.fit_transform(preData, df_y['KTRES50']))\n",
        "cols = fs.get_feature_names_out()\n",
        "X_selected.columns = cols\n",
        "print(X_selected)"
      ]
    },
    {
      "cell_type": "code",
      "execution_count": null,
      "metadata": {
        "id": "TMV-geDwtEYJ"
      },
      "outputs": [],
      "source": [
        "y_re = df_y['KTRES50']\n",
        "X_re = preData"
      ]
    },
    {
      "cell_type": "markdown",
      "metadata": {
        "id": "yFHtUggbvgCs"
      },
      "source": [
        "# LightGbm model with pretest"
      ]
    },
    {
      "cell_type": "code",
      "source": [
        "import pandas as pd\n",
        "import numpy as np\n",
        "from sklearn.ensemble import RandomForestRegressor\n",
        "import xgboost as xgb\n",
        "from sklearn.svm import SVC,SVR\n",
        "import lightgbm as lgb\n",
        "\n",
        "from sklearn.model_selection import KFold\n",
        "from sklearn.metrics import r2_score\n",
        "import warnings\n",
        "warnings.filterwarnings(\"ignore\")\n",
        "\n",
        "from skopt import BayesSearchCV\n",
        "from skopt.callbacks import DeadlineStopper, DeltaYStopper\n",
        "from skopt.space import Real, Categorical, Integer\n",
        "from sklearn.model_selection import RepeatedStratifiedKFold\n",
        "from sklearn.linear_model import Ridge"
      ],
      "metadata": {
        "id": "X_lZyntYcmJG"
      },
      "execution_count": null,
      "outputs": []
    },
    {
      "cell_type": "code",
      "source": [
        "models_to_run = [Ridge(), SVR(), RandomForestRegressor(), xgb.XGBRegressor(), lgb.LGBMRegressor()]\n",
        "\n",
        "model_parm_search = [\n",
        "    { # linear\n",
        "     'alpha': Real(1e-5, 100, prior='log-uniform'),\n",
        "     \"solver\":Categorical(['svd', 'cholesky', 'lsqr', 'sag']),\n",
        "     'fit_intercept':Categorical([\"True\", \"False\"]),\n",
        "    },\n",
        "    \n",
        "    { # SVR\n",
        "     'C': Real(1e-6, 1e+6, prior='log-uniform'),\n",
        "     \"kernel\":Categorical(['linear','poly','rbf','sigmoid']),\n",
        "     'gamma':Real(1e-6, 1e+1, prior='log-uniform'),\n",
        "     \"epsilon\":Integer(0,1),\n",
        "    },\n",
        "\n",
        "    { # RandomForestRegressor\n",
        "     'max_depth': Integer(3, 12),\n",
        "     'n_estimators': Integer(100, 1000),\n",
        "     'max_features': Integer(2, 5),\n",
        "    },\n",
        "\n",
        "    { # XGBRegressor\n",
        "     'learning_rate': Real(1e-4, 1.0, 'log-uniform'),\n",
        "     'colsample_bytree': Real(0.1, 0.9),\n",
        "     'n_estimators': Integer(100, 1000),\n",
        "     'reg_alpha': Real(1, 1.5,'log-uniform'),\n",
        "     'reg_lambda': Real(1, 1.5,'log-uniform'),\n",
        "    },\n",
        "\n",
        "    { # LGBMRegressor\n",
        "     'learning_rate': Real(1e-4, 1.0, 'log-uniform'),\n",
        "     'n_estimators': Integer(100, 1000),\n",
        "     'max_depth': Integer(3, 12),\n",
        "     'reg_alpha': Real(1, 1.5,'log-uniform'),\n",
        "     'reg_lambda': Real(1, 1.5,'log-uniform'),\n",
        "    }\n",
        "]"
      ],
      "metadata": {
        "id": "d2rcI7Kvmpnl"
      },
      "execution_count": null,
      "outputs": []
    },
    {
      "cell_type": "code",
      "source": [
        "from sklearn.model_selection import train_test_split\n",
        "X_train, X_test, y_train, y_test = train_test_split(X_re, y_re, test_size = 0.2, random_state=8)\n"
      ],
      "metadata": {
        "id": "BJ8miIAfmxwS"
      },
      "execution_count": null,
      "outputs": []
    },
    {
      "cell_type": "code",
      "source": [
        "from sklearn.metrics import mean_squared_error as mse\n",
        "\n",
        "cv = KFold(n_splits=5, shuffle=True, random_state=7)\n",
        "\n",
        "for i, model in enumerate(models_to_run):\n",
        "   # build the Bayesian search model\n",
        "   bs = BayesSearchCV(\n",
        "       estimator=model,\n",
        "       search_spaces=model_parm_search[i],\n",
        "       cv = cv,\n",
        "       n_iter = 20,\n",
        "       n_jobs = -1, \n",
        "       scoring = \"r2\",\n",
        "       #return_train_score=True,\n",
        "       random_state = 2\n",
        "   )\n",
        "\n",
        "   bs.fit(X_train, y_train)\n",
        "   \n",
        "   model    = bs.best_estimator_\n",
        "   test_preds = model.predict(X_test)\n",
        "   train_preds = model.predict(X_train)\n",
        "   all_preds  = model.predict(X_re)\n",
        "   y_obs    = y_re.tolist()\n",
        "    \n",
        "   r2_kfolds = cross_val_score(model, X_train, y_train, cv = cv, n_jobs=-1, scoring='r2')\n",
        "   rmse_kfolds = cross_val_score(model, X_train, y_train, cv = cv, n_jobs=-1, scoring='neg_root_mean_squared_error')\n",
        "\n",
        "   print('\\nThe 5-CV rmse Score was:', rmse_kfolds.mean()) \n",
        "   print('With a standard deviation of:', rmse_kfolds.std())\n",
        "   print('Test rmse socre: %.2f' %mse(y_test, test_preds, squared=False))\n",
        "\n",
        "   print('\\nThe 5-CV R2 Score was:', r2_kfolds.mean()) \n",
        "   print('With a standard deviation of:', r2_kfolds.std())\n",
        "   print(\"Test R2 Score : %.2f\" %r2_score(y_test, test_preds))\n",
        "   print(\"Train R2 Score : %.2f\" %r2_score(y_train, train_preds))\n",
        "   print(\"All R2 Score : %.2f\" %r2_score(y_obs, all_preds)) "
      ],
      "metadata": {
        "id": "ch6IKH-Rdd89",
        "colab": {
          "base_uri": "https://localhost:8080/"
        },
        "outputId": "ad39450e-2876-45f7-d44b-852b265b246f"
      },
      "execution_count": null,
      "outputs": [
        {
          "output_type": "stream",
          "name": "stdout",
          "text": [
            "\n",
            "The 5-CV rmse Score was: -33.3892546430269\n",
            "With a standard deviation of: 3.8639799860644937\n",
            "Test rmse socre: 32.35\n",
            "\n",
            "The 5-CV R2 Score was: 0.031181929635646966\n",
            "With a standard deviation of: 0.03191927377378189\n",
            "Test R2 Score : 0.06\n",
            "Train R2 Score : 0.12\n",
            "All R2 Score : 0.11\n",
            "\n",
            "The 5-CV rmse Score was: -36.1580803120648\n",
            "With a standard deviation of: 3.5535128539508576\n",
            "Test rmse socre: 35.21\n",
            "\n",
            "The 5-CV R2 Score was: -0.1421883486724258\n",
            "With a standard deviation of: 0.07456649205105444\n",
            "Test R2 Score : -0.11\n",
            "Train R2 Score : 0.02\n",
            "All R2 Score : -0.00\n",
            "\n",
            "The 5-CV rmse Score was: -31.941342442782435\n",
            "With a standard deviation of: 5.333652371206642\n",
            "Test rmse socre: 30.68\n",
            "\n",
            "The 5-CV R2 Score was: 0.10838937264983543\n",
            "With a standard deviation of: 0.06482090859632846\n",
            "Test R2 Score : 0.16\n",
            "Train R2 Score : 0.63\n",
            "All R2 Score : 0.54\n",
            "[22:02:04] WARNING: /workspace/src/objective/regression_obj.cu:152: reg:linear is now deprecated in favor of reg:squarederror.\n",
            "\n",
            "The 5-CV rmse Score was: -32.66220047827425\n",
            "With a standard deviation of: 4.7428527798672935\n",
            "Test rmse socre: 30.78\n",
            "\n",
            "The 5-CV R2 Score was: 0.07919917271330543\n",
            "With a standard deviation of: 0.054657936166397955\n",
            "Test R2 Score : 0.15\n",
            "Train R2 Score : 0.31\n",
            "All R2 Score : 0.28\n",
            "\n",
            "The 5-CV rmse Score was: -31.716988262967607\n",
            "With a standard deviation of: 4.70901910716233\n",
            "Test rmse socre: 30.60\n",
            "\n",
            "The 5-CV R2 Score was: 0.13146894804391523\n",
            "With a standard deviation of: 0.06734406008641068\n",
            "Test R2 Score : 0.16\n",
            "Train R2 Score : 0.37\n",
            "All R2 Score : 0.33\n"
          ]
        }
      ]
    },
    {
      "cell_type": "markdown",
      "source": [
        "# Deep nerual network model with keras"
      ],
      "metadata": {
        "id": "bRt_8P_6x48L"
      }
    },
    {
      "cell_type": "code",
      "source": [
        "# import basic packages\n",
        "import numpy as np\n",
        "import seaborn as sns\n",
        "import pandas as pd\n",
        "import tensorflow as tf\n",
        "import scikeras\n",
        "from tensorflow import keras\n",
        "import matplotlib.pyplot as plt\n",
        "from mpl_toolkits.axes_grid1 import make_axes_locatable\n",
        "import matplotlib.colors as colors\n",
        "import matplotlib as mpl\n",
        "\n",
        "# import keras related packages\n",
        "from tensorflow import keras\n",
        "from keras.models import Sequential\n",
        "from keras.layers import Dense\n",
        "from keras.layers import Dropout\n",
        "from keras import regularizers \n",
        "from tensorflow.keras.optimizers import Adam, SGD\n",
        "from tensorflow.keras.optimizers.schedules import ExponentialDecay\n",
        "from keras.models import load_model\n",
        "from keras.callbacks import EarlyStopping\n",
        "from keras.wrappers.scikit_learn import KerasRegressor\n",
        "from keras_tuner import BayesianOptimization\n",
        "from keras_tuner import Hyperband \n",
        "from tensorflow import keras\n",
        "from tensorflow.keras import layers\n",
        "from keras_tuner import Objective\n",
        "from tensorflow.keras.optimizers import Adam\n"
      ],
      "metadata": {
        "id": "nO6_s9n-x6l9"
      },
      "execution_count": null,
      "outputs": []
    },
    {
      "cell_type": "code",
      "source": [
        "X = X_re.to_numpy()\n",
        "y = y_re.to_numpy()\n",
        "# summarize shape\n",
        "print(X.shape, y.shape)\n"
      ],
      "metadata": {
        "colab": {
          "base_uri": "https://localhost:8080/"
        },
        "id": "9FWITGxXx9wu",
        "outputId": "7f59bcff-2a0e-415d-82f3-f24e31a24de9"
      },
      "execution_count": null,
      "outputs": [
        {
          "output_type": "stream",
          "name": "stdout",
          "text": [
            "(288, 38) (288,)\n"
          ]
        }
      ]
    },
    {
      "cell_type": "code",
      "source": [
        "from sklearn.model_selection import train_test_split\n",
        "X_train, X_test, y_train, y_test = train_test_split(X, y,test_size = 0.2, random_state=2)"
      ],
      "metadata": {
        "id": "DbJhSWKvx_Sf"
      },
      "execution_count": null,
      "outputs": []
    },
    {
      "cell_type": "markdown",
      "source": [
        "# Tuning Model with Keras Tuner"
      ],
      "metadata": {
        "id": "8-KGR9Q9yBnp"
      }
    },
    {
      "cell_type": "code",
      "source": [
        "def build_model(hp):\n",
        "  model = Sequential()\n",
        "  \n",
        "  # Input layer\n",
        "  model.add(Dense(units = hp.Int('dense-bot', min_value=38, \n",
        "             max_value=256, step=12, default=38),#256\n",
        "             activation = hp.Choice(\n",
        "                 'dense_activation',\n",
        "                    values=['relu', 'tanh', 'sigmoid'],\n",
        "                    default='relu'),\n",
        "             input_shape=(X.shape[1],)))\n",
        "  \n",
        "\n",
        "  # Tune the number of units in the each dense layer \n",
        "  for i in range (hp.Int('num_dense_layers',1,5)):\n",
        "    model.add(Dense(units=hp.Int('dense_'+str(i), min_value=38, max_value=512, step=60),\n",
        "          activation = hp.Choice('act_l1',['relu','tanh','sigmoid'])))\n",
        "    \n",
        "    # Tune the droput rate in the each dense layer\n",
        "    model.add(Dropout(hp.Float('dropout_'+ str(i), min_value=0.0, max_value=0.5, step=0.2)))\n",
        "\n",
        "  \n",
        "  # add output    \n",
        "  model.add(layers.Dense(1,activation='linear'))\n",
        "\n",
        "  hp_optimizer=hp.Choice('Optimizer', values=['Adam', 'SGD'])\n",
        "  \n",
        "  if hp_optimizer == 'Adam':\n",
        "    hp_learning_rate = hp.Choice('learning_rate', values=[1e-3, 1e-4, 1e-5, 1e-6, 1e-7,1e-8, 1e-9])\n",
        "  \n",
        "  elif hp_optimizer == 'SGD':\n",
        "     hp_learning_rate = hp.Choice('learning_rate', values=[1e-3, 1e-4, 1e-5, 1e-6, 1e-7,1e-8, 1e-9])\n",
        "     nesterov=True\n",
        "     momentum=0.9\n",
        "  \n",
        "  model.compile(\n",
        "    optimizer=hp_optimizer,\n",
        "    loss='mse',\n",
        "    metrics=['mse'])\n",
        "  \n",
        "  return model"
      ],
      "metadata": {
        "id": "Gwt-aUZFyCeV"
      },
      "execution_count": null,
      "outputs": []
    },
    {
      "cell_type": "code",
      "source": [
        "# Check if the model code work correctly\n",
        "import keras_tuner\n",
        "build_model(keras_tuner.HyperParameters())\n"
      ],
      "metadata": {
        "colab": {
          "base_uri": "https://localhost:8080/"
        },
        "id": "XdmZuBgzyHBE",
        "outputId": "fa21af42-1861-4e3a-d08d-0827f5907b8a"
      },
      "execution_count": null,
      "outputs": [
        {
          "output_type": "execute_result",
          "data": {
            "text/plain": [
              "<keras.engine.sequential.Sequential at 0x7f83e0345a50>"
            ]
          },
          "metadata": {},
          "execution_count": 128
        }
      ]
    },
    {
      "cell_type": "code",
      "source": [
        "tuner_bo = BayesianOptimization(\n",
        "            hypermodel = build_model,\n",
        "            objective = 'val_mse',\n",
        "            max_trials = 10, #10\n",
        "            overwrite = True,\n",
        "            executions_per_trial=1)"
      ],
      "metadata": {
        "id": "XUlYhZk6yIUR"
      },
      "execution_count": null,
      "outputs": []
    },
    {
      "cell_type": "code",
      "source": [
        "tuner_bo.search(X_train, y_train, \n",
        "         validation_data = (X_test, y_test),\n",
        "         batch_size = 32,\n",
        "         epochs = 2000, #1800\n",
        "         verbose = 0)"
      ],
      "metadata": {
        "id": "dEyDM1SDyR2d",
        "colab": {
          "base_uri": "https://localhost:8080/"
        },
        "outputId": "e706f982-a0f1-4437-fff5-4633b9cbe2a4"
      },
      "execution_count": null,
      "outputs": [
        {
          "output_type": "stream",
          "name": "stderr",
          "text": [
            "WARNING:tensorflow:Detecting that an object or model or tf.train.Checkpoint is being deleted with unrestored values. See the following logs for the specific values in question. To silence these warnings, use `status.expect_partial()`. See https://www.tensorflow.org/api_docs/python/tf/train/Checkpoint#restorefor details about the status object returned by the restore function.\n",
            "WARNING:tensorflow:Value in checkpoint could not be found in the restored object: (root).optimizer.iter\n",
            "WARNING:tensorflow:Value in checkpoint could not be found in the restored object: (root).optimizer.beta_1\n",
            "WARNING:tensorflow:Value in checkpoint could not be found in the restored object: (root).optimizer.beta_2\n",
            "WARNING:tensorflow:Value in checkpoint could not be found in the restored object: (root).optimizer.decay\n",
            "WARNING:tensorflow:Value in checkpoint could not be found in the restored object: (root).optimizer.learning_rate\n"
          ]
        }
      ]
    },
    {
      "cell_type": "code",
      "source": [
        "# Get the top 2 models\n",
        "best_params=tuner_bo.get_best_hyperparameters()\n",
        "best_params[0].values"
      ],
      "metadata": {
        "id": "kezHsC4cyVCv",
        "colab": {
          "base_uri": "https://localhost:8080/"
        },
        "outputId": "3020037c-ec4c-4a5f-fb4e-a7ae129512ba"
      },
      "execution_count": null,
      "outputs": [
        {
          "output_type": "execute_result",
          "data": {
            "text/plain": [
              "{'dense-bot': 170,\n",
              " 'dense_activation': 'tanh',\n",
              " 'num_dense_layers': 5,\n",
              " 'dense_0': 338,\n",
              " 'act_l1': 'relu',\n",
              " 'dropout_0': 0.4,\n",
              " 'Optimizer': 'Adam',\n",
              " 'learning_rate': 1e-09,\n",
              " 'dense_1': 278,\n",
              " 'dropout_1': 0.4,\n",
              " 'dense_2': 98,\n",
              " 'dropout_2': 0.4,\n",
              " 'dense_3': 38,\n",
              " 'dropout_3': 0.0,\n",
              " 'dense_4': 38,\n",
              " 'dropout_4': 0.0}"
            ]
          },
          "metadata": {},
          "execution_count": 131
        }
      ]
    },
    {
      "cell_type": "code",
      "source": [
        "best_model= tuner_bo.get_best_models()[0]\n",
        "best_model.summary()\n"
      ],
      "metadata": {
        "id": "eNO8jvOzyZMD",
        "colab": {
          "base_uri": "https://localhost:8080/"
        },
        "outputId": "0a34f270-9b6c-4c30-a43c-f7679572c138"
      },
      "execution_count": null,
      "outputs": [
        {
          "output_type": "stream",
          "name": "stdout",
          "text": [
            "Model: \"sequential\"\n",
            "_________________________________________________________________\n",
            " Layer (type)                Output Shape              Param #   \n",
            "=================================================================\n",
            " dense (Dense)               (None, 170)               6630      \n",
            "                                                                 \n",
            " dense_1 (Dense)             (None, 338)               57798     \n",
            "                                                                 \n",
            " dropout (Dropout)           (None, 338)               0         \n",
            "                                                                 \n",
            " dense_2 (Dense)             (None, 278)               94242     \n",
            "                                                                 \n",
            " dropout_1 (Dropout)         (None, 278)               0         \n",
            "                                                                 \n",
            " dense_3 (Dense)             (None, 98)                27342     \n",
            "                                                                 \n",
            " dropout_2 (Dropout)         (None, 98)                0         \n",
            "                                                                 \n",
            " dense_4 (Dense)             (None, 38)                3762      \n",
            "                                                                 \n",
            " dropout_3 (Dropout)         (None, 38)                0         \n",
            "                                                                 \n",
            " dense_5 (Dense)             (None, 38)                1482      \n",
            "                                                                 \n",
            " dropout_4 (Dropout)         (None, 38)                0         \n",
            "                                                                 \n",
            " dense_6 (Dense)             (None, 1)                 39        \n",
            "                                                                 \n",
            "=================================================================\n",
            "Total params: 191,295\n",
            "Trainable params: 191,295\n",
            "Non-trainable params: 0\n",
            "_________________________________________________________________\n"
          ]
        }
      ]
    },
    {
      "cell_type": "code",
      "source": [
        "from sklearn.metrics import r2_score\n",
        "\n",
        "test_preds = best_model.predict(X_test)\n",
        "train_preds = best_model.predict(X_train)\n",
        "all_preds  = best_model.predict(X_re)\n",
        "y_obs    = y_re.tolist()\n",
        "\n",
        "print(\"\\nTest R2 Score : %.2f\" %r2_score(y_test, test_preds))\n",
        "print(\"Train R2 Score : %.2f\" %r2_score(y_train, train_preds))\n",
        "print(\"All R2 Score : %.2f\" %r2_score(y_obs, all_preds))\n",
        "print('Test rmse socre: %.2f' %mse(y_test, test_preds, squared=False))\n"
      ],
      "metadata": {
        "id": "lXuWobZLykBo",
        "colab": {
          "base_uri": "https://localhost:8080/"
        },
        "outputId": "a8a24af2-6009-43fb-ffbd-bc86ef7cbabf"
      },
      "execution_count": null,
      "outputs": [
        {
          "output_type": "stream",
          "name": "stdout",
          "text": [
            "2/2 [==============================] - 0s 8ms/step\n",
            "8/8 [==============================] - 0s 3ms/step\n",
            "9/9 [==============================] - 0s 3ms/step\n",
            "\n",
            "Test R2 Score : 0.23\n",
            "Train R2 Score : 0.83\n",
            "All R2 Score : 0.69\n",
            "Test rmse socre: 32.09\n"
          ]
        }
      ]
    },
    {
      "cell_type": "code",
      "source": [
        "# save model and architecture to single file\n",
        "#best_model.save(\"KTRES50_best_model.h5\")\n",
        "#print(\"Saved model to disk\")"
      ],
      "metadata": {
        "colab": {
          "base_uri": "https://localhost:8080/"
        },
        "id": "mCALGLdPaKB_",
        "outputId": "75aebc42-27aa-4e17-bd0b-a1fbf7db1fa5"
      },
      "execution_count": null,
      "outputs": [
        {
          "output_type": "stream",
          "name": "stdout",
          "text": [
            "Saved model to disk\n"
          ]
        }
      ]
    },
    {
      "cell_type": "code",
      "source": [
        "best_model_v2 = load_model('KTRES50_best_model.h5')\n",
        "test_preds_v2 = best_model_v2.predict(X_test)\n",
        "train_preds_v2 = best_model_v2.predict(X_train)\n",
        "all_preds_v2  = best_model_v2.predict(X_re)\n",
        "y_obs    = y_re.tolist()\n",
        "\n",
        "print(\"\\nTest R2 Score : %.2f\" %r2_score(y_test, test_preds_v2))\n",
        "print(\"Train R2 Score : %.2f\" %r2_score(y_train, train_preds_v2))\n",
        "print(\"All R2 Score : %.2f\" %r2_score(y_obs, all_preds_v2))\n",
        "print('Test rmse socre: %.2f' %mse(y_test, test_preds, squared=False))\n"
      ],
      "metadata": {
        "colab": {
          "base_uri": "https://localhost:8080/"
        },
        "id": "aNynGu6VaXFG",
        "outputId": "9379f473-2048-4639-984c-d64fd762f9ce"
      },
      "execution_count": null,
      "outputs": [
        {
          "output_type": "stream",
          "name": "stderr",
          "text": [
            "WARNING:tensorflow:Error in loading the saved optimizer state. As a result, your model is starting with a freshly initialized optimizer.\n"
          ]
        },
        {
          "output_type": "stream",
          "name": "stdout",
          "text": [
            "2/2 [==============================] - 0s 9ms/step\n",
            "8/8 [==============================] - 0s 4ms/step\n",
            "9/9 [==============================] - 0s 3ms/step\n",
            "\n",
            "Test R2 Score : 0.23\n",
            "Train R2 Score : 0.83\n",
            "All R2 Score : 0.69\n",
            "Test rmse socre: 38.83\n"
          ]
        }
      ]
    },
    {
      "cell_type": "markdown",
      "source": [
        "# Display the R-squared value on scatterplot with regression model "
      ],
      "metadata": {
        "id": "Ab0BBgSqQ8kb"
      }
    },
    {
      "cell_type": "code",
      "source": [
        "import matplotlib.pyplot as plt\n",
        "\n",
        "# create basic catterplot\n",
        "plt.plot(y_obs, all_preds,'o')\n",
        "\n",
        "# obtain m (slope) and b(intercept) of linear regression line\n",
        "m, b = np.polyfit(y_obs, all_preds, 1)\n",
        "\n",
        "# add linear regression line to scatterplot\n",
        "plt.plot(y_obs, m*y_obs+b)"
      ],
      "metadata": {
        "colab": {
          "base_uri": "https://localhost:8080/",
          "height": 448
        },
        "id": "iDNZJMn7Q76w",
        "outputId": "3a3464b1-5b38-4e1c-c3eb-661fd67c54a8"
      },
      "execution_count": null,
      "outputs": [
        {
          "output_type": "error",
          "ename": "TypeError",
          "evalue": "ignored",
          "traceback": [
            "\u001b[0;31m---------------------------------------------------------------------------\u001b[0m",
            "\u001b[0;31mTypeError\u001b[0m                                 Traceback (most recent call last)",
            "\u001b[0;32m<ipython-input-42-2e8be8293c71>\u001b[0m in \u001b[0;36m<module>\u001b[0;34m\u001b[0m\n\u001b[1;32m      8\u001b[0m \u001b[0;34m\u001b[0m\u001b[0m\n\u001b[1;32m      9\u001b[0m \u001b[0;31m# add linear regression line to scatterplot\u001b[0m\u001b[0;34m\u001b[0m\u001b[0;34m\u001b[0m\u001b[0;34m\u001b[0m\u001b[0m\n\u001b[0;32m---> 10\u001b[0;31m \u001b[0mplt\u001b[0m\u001b[0;34m.\u001b[0m\u001b[0mplot\u001b[0m\u001b[0;34m(\u001b[0m\u001b[0my_obs\u001b[0m\u001b[0;34m,\u001b[0m \u001b[0mm\u001b[0m\u001b[0;34m*\u001b[0m\u001b[0my_obs\u001b[0m\u001b[0;34m+\u001b[0m\u001b[0mb\u001b[0m\u001b[0;34m)\u001b[0m\u001b[0;34m\u001b[0m\u001b[0;34m\u001b[0m\u001b[0m\n\u001b[0m",
            "\u001b[0;31mTypeError\u001b[0m: can't multiply sequence by non-int of type 'numpy.float64'"
          ]
        },
        {
          "output_type": "display_data",
          "data": {
            "text/plain": [
              "<Figure size 432x288 with 1 Axes>"
            ],
            "image/png": "[encoded data removed]"
          },
          "metadata": {
            "needs_background": "light"
          }
        }
      ]
    },
    {
      "cell_type": "markdown",
      "source": [
        "# K-fold cross validation"
      ],
      "metadata": {
        "id": "ILUQIgT0ymxw"
      }
    },
    {
      "cell_type": "code",
      "source": [
        "from sklearn.model_selection import KFold\n",
        "from sklearn.metrics import mean_squared_error as mse\n",
        "\n",
        "\n",
        "dnn_best_model = best_model_v2 \n",
        "\n",
        "kfold = KFold(n_splits=5, shuffle=True, random_state=2)\n",
        "cvr2scores = []\n",
        "cvrmsescores = []\n",
        "\n",
        "for train_ix, test_ix in kfold.split(X_train):\n",
        "  # split data\n",
        "  X_trian_n, X_test_n = X_train[train_ix], X_train[test_ix]\n",
        "  y_trian_n, y_test_n = y_train[train_ix], y_train[test_ix]\n",
        "  # create model\n",
        "  \n",
        "  dnn_best_model.fit(X_trian_n,y_trian_n, epochs=2000, batch_size=32, verbose=0)\n",
        "  test_pred = dnn_best_model.predict(X_test_n)\n",
        "  r2score = r2_score(y_test_n, test_pred)\n",
        "  rmse   = mse(y_test_n, test_pred,squared=False)\n",
        "\n",
        "  #print(\"Test R2 Score : %.2f\" %r2score)\n",
        "  #print(\"Test R2 Score : %.2f\" %rmse)\n",
        "  \n",
        "  cvr2scores.append(r2score)\n",
        "  cvrmsescores.append(rmse)\n",
        "\n",
        "print(\"The 5-cv r2 Score was: %.2f (+/-) %.2f\" % (np.mean(cvr2scores), np.std(cvr2scores)))\n",
        "print(\"The 5-cv rmse Score was: %.2f (+/-) %.2f\" % (np.mean(cvrmsescores), np.std(cvrmsescores)))\n"
      ],
      "metadata": {
        "id": "gSjw4h-Wyn6E",
        "colab": {
          "base_uri": "https://localhost:8080/"
        },
        "outputId": "66fb78c2-0b3f-45f3-b5be-dd500b0e52e1"
      },
      "execution_count": null,
      "outputs": [
        {
          "output_type": "stream",
          "name": "stdout",
          "text": [
            "2/2 [==============================] - 0s 8ms/step\n",
            "2/2 [==============================] - 0s 9ms/step\n"
          ]
        }
      ]
    },
    {
      "cell_type": "markdown",
      "source": [
        "# Save predicted values (to csv file)"
      ],
      "metadata": {
        "id": "28jmKkRQ7qaN"
      }
    },
    {
      "cell_type": "code",
      "source": [
        "PredKmax = pd.concat([pd.DataFrame(Data.dropna()[\"ID\"].reset_index(drop=True)), pd.DataFrame(y_obs), pd.DataFrame(all_preds)], axis = 1)\n",
        "PredKmax.columns = [\"ID\",\"KTRES50\", \"Pred_KTRES50\"]\n",
        "PredKmax.to_csv('output_KTRES50.csv', encoding = 'utf-8-sig',index=False)"
      ],
      "metadata": {
        "id": "qxKEfAq77tBG"
      },
      "execution_count": null,
      "outputs": []
    }
  ],
  "metadata": {
    "colab": {
      "provenance": []
    },
    "gpuClass": "standard",
    "kernelspec": {
      "display_name": "Python 3",
      "name": "python3"
    },
    "language_info": {
      "name": "python"
    }
  },
  "nbformat": 4,
  "nbformat_minor": 0
}