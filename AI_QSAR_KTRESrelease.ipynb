{
  "cells": [
    {
      "cell_type": "markdown",
      "metadata": {
        "id": "hor4d6I5SLbS"
      },
      "source": [
        "# AI-PBPK model project: hyperparameters tuning with BayesSearchCV \n",
        "Author: Wei-Chun Chou  \n",
        "Date created: 2022/06/09  \n",
        "Description: In this study, we used lightGBM and Deep nerual network model to predict the require parameter which can be inputed into the PBPK model  \n"
      ]
    },
    {
      "cell_type": "markdown",
      "metadata": {
        "id": "58pDV7v7cPLz"
      },
      "source": [
        "# Install and import required python pacakges"
      ]
    },
    {
      "cell_type": "code",
      "execution_count": null,
      "metadata": {
        "id": "wKlJya_nYv-p"
      },
      "outputs": [],
      "source": [
        "# Install python pacakges\n",
        "#!pip install pycaret==2.3.10 markupsafe==2.0.1 pyyaml==5.4.1 -qq\n",
        "!pip install -q lightgbm # install the lightgbm package\n",
        "!pip install -q scikit-optimize # install the package used for Bayesian optimization\n",
        "!pip install -q scikeras[tensorflow]\n",
        "!pip install -q keras-tuner"
      ]
    },
    {
      "cell_type": "code",
      "execution_count": null,
      "metadata": {
        "id": "BCuWQXqSapTf"
      },
      "outputs": [],
      "source": [
        "#Install basic python pcakges\n",
        "import math\n",
        "import numpy as np\n",
        "import pandas as pd\n",
        "import matplotlib.pyplot as plt\n",
        "%matplotlib inline\n",
        "import os\n",
        "from sklearn.model_selection import train_test_split, cross_val_score, cross_val_predict\n",
        "from sklearn.model_selection import KFold, StratifiedKFold\n",
        "from sklearn.metrics import mean_squared_log_error\n",
        "from sklearn import preprocessing\n",
        "from sklearn.preprocessing import StandardScaler\n",
        "from sklearn.impute import SimpleImputer\n",
        "from time import time"
      ]
    },
    {
      "cell_type": "markdown",
      "metadata": {
        "id": "9Rm-dOROZUS7"
      },
      "source": [
        "# Link to google drive and set up your project folder"
      ]
    },
    {
      "cell_type": "code",
      "execution_count": null,
      "metadata": {
        "colab": {
          "base_uri": "https://localhost:8080/"
        },
        "id": "8ZkkXjpxZZFQ",
        "outputId": "b049a3c6-fd33-42d6-ce70-f71d9ec1b7a0"
      },
      "outputs": [
        {
          "output_type": "stream",
          "name": "stdout",
          "text": [
            "Mounted at /content/drive\n"
          ]
        }
      ],
      "source": [
        "#Mount drive to google colab\n",
        "from google.colab import drive\n",
        "drive.mount('/content/drive', force_remount=True)\n",
        "\n",
        "# Set your working directory to a speicifc folder in your Google Drive\n",
        "# The base Google Drive directory\n",
        "root_dir = \"/content/drive/My Drive/Colab Notebooks/AI-Toxicology\"\n",
        "\n",
        "# choose where you want your project files to be saved\n",
        "project_folder = \"/Project_2_AI-PBPK/\" # Name your project here. Please instead the \"my project folder\" to your prefer name\n",
        "\n",
        "# Make sure that floder exists. If not, automatically create a new folder\n",
        "if (not os.path.isdir(root_dir + project_folder)):\n",
        "  os.mkdir(root_dir + project_folder)\n",
        "  print(root_dir + project_folder + 'did not exist but was created.')\n",
        "\n",
        "# Change the OS to use your project folder as the working directory\n",
        "os.chdir(root_dir + project_folder)"
      ]
    },
    {
      "cell_type": "markdown",
      "metadata": {
        "id": "eUHWGwQGZ5vg"
      },
      "source": [
        "# Data exploration"
      ]
    },
    {
      "cell_type": "code",
      "execution_count": null,
      "metadata": {
        "id": "o7Vgo360Z7zc"
      },
      "outputs": [],
      "source": [
        "# importer Data\n",
        "Data = pd.read_csv(os.path.join(root_dir + project_folder + \"Data.csv\"))"
      ]
    },
    {
      "cell_type": "markdown",
      "metadata": {
        "id": "OMB4qMCBZIfh"
      },
      "source": [
        "# Data preprocessing I: missing Values  \n",
        "Most Machine leanring algorithms canot work with missing features. So, we need to use `SimpleImputer` to replace missing values with median, mean or frequently used values."
      ]
    },
    {
      "cell_type": "code",
      "execution_count": null,
      "metadata": {
        "colab": {
          "base_uri": "https://localhost:8080/"
        },
        "id": "8jpaQvf0ZIHN",
        "outputId": "4de66a64-74f6-4bdd-cbbe-a23f609083be"
      },
      "outputs": [
        {
          "output_type": "execute_result",
          "data": {
            "text/plain": [
              "ID               0\n",
              "Type             0\n",
              "TS               0\n",
              "HD              36\n",
              "Zeta            44\n",
              "Charge          40\n",
              "Shape            0\n",
              "TM               0\n",
              "CT               0\n",
              "TSz             31\n",
              "TW               0\n",
              "Dose             0\n",
              "BW               0\n",
              "DE24             0\n",
              "DE168            0\n",
              "Demax            0\n",
              "KTRESrelease     0\n",
              "KTRESmax         0\n",
              "KTRES50          0\n",
              "KTRESn           0\n",
              "dtype: int64"
            ]
          },
          "metadata": {},
          "execution_count": 77
        }
      ],
      "source": [
        "# see how many missing values in your dataset\n",
        "Data.isna().sum()"
      ]
    },
    {
      "cell_type": "code",
      "execution_count": null,
      "metadata": {
        "id": "eqRmHwbIT_mI"
      },
      "outputs": [],
      "source": [
        "# Remove the row with missing data\n",
        "Data=Data.dropna() # you can use 'subset' (e.g., dropna(subset='HD')) to remove the missing value in specific column"
      ]
    },
    {
      "cell_type": "code",
      "source": [
        "df = pd.DataFrame(Data)\n",
        "df_X = df[[\"Type\",\"TS\",\"HD\",\"Zeta\",\"Charge\",\"Shape\", \"TM\", \"CT\", \"TSz\", \"TW\"]]\n",
        "df_y = df[[\"KTRESrelease\",\"KTRESn\",\"KTRESmax\", \"KTRES50\"]]"
      ],
      "metadata": {
        "id": "co78bDfayL20"
      },
      "execution_count": null,
      "outputs": []
    },
    {
      "cell_type": "code",
      "execution_count": null,
      "metadata": {
        "id": "qGgYnneRR4ta"
      },
      "outputs": [],
      "source": [
        "## Replace mising value with \"Mean\" or \"Frequency values\"\n",
        "imputer_mean = SimpleImputer(strategy='mean', missing_values=np.nan)\n",
        "imputer_freq = SimpleImputer(strategy='most_frequent', missing_values=np.nan)\n",
        "cols_num = ['HD','Zeta',\"TSz\",'TW']\n",
        "cols_label = ['Type','TS','Charge','Shape','TM','CT']\n",
        "\n",
        "imputer_mean = imputer_mean.fit(df_X[cols_num])\n",
        "imputer_freq = imputer_freq.fit(df_X[cols_label])\n",
        "df_X[cols_num] = imputer_mean.transform(df_X[cols_num])\n",
        "df_X[cols_label] = imputer_freq.transform(df_X[cols_label])\n"
      ]
    },
    {
      "cell_type": "markdown",
      "metadata": {
        "id": "hHk_ilEgVsTh"
      },
      "source": [
        "# 3. Taking care of Categorical Features\n"
      ]
    },
    {
      "cell_type": "code",
      "execution_count": null,
      "metadata": {
        "id": "EN-rRyZuz9oG"
      },
      "outputs": [],
      "source": [
        "test_X = df_X"
      ]
    },
    {
      "cell_type": "code",
      "execution_count": null,
      "metadata": {
        "id": "LbQesdjAVuXJ",
        "colab": {
          "base_uri": "https://localhost:8080/"
        },
        "outputId": "e66dc829-b13e-4bb0-e3a8-8eb5f31b16b1"
      },
      "outputs": [
        {
          "output_type": "stream",
          "name": "stdout",
          "text": [
            "     Type  TS     HD  Zeta  Charge  Shape  TM  CT    TSz     TW\n",
            "4       1   0   68.4   9.3       0      2   3  13  0.175  0.210\n",
            "5       1   1  166.0   6.0       0      6   4  16  1.100  1.320\n",
            "6       1   0  175.6   5.0       0      6   4  16  1.100  1.320\n",
            "7       1   1  104.2  10.0       0      6   4  16  1.100  1.320\n",
            "8       1   1   64.2  15.0       0      6   4  16  1.100  1.320\n",
            "..    ...  ..    ...   ...     ...    ...  ..  ..    ...    ...\n",
            "373     2   1   92.0   0.0       2      6   3   1  0.530  0.636\n",
            "374     2   1   92.0   0.0       2      6   3   1  0.530  0.636\n",
            "375     2   1   92.0   0.0       2      6   3   1  0.530  0.636\n",
            "376     2   1  122.5  13.2       0      6   3   6  0.300  0.360\n",
            "377     2   1  190.5  10.1       0      4   1  11  0.100  0.120\n",
            "\n",
            "[288 rows x 10 columns]\n"
          ]
        }
      ],
      "source": [
        "from sklearn.preprocessing import LabelEncoder\n",
        "\n",
        "# Encode labels of multiple columns at once\n",
        "test_X[cols_label] = test_X[cols_label].apply(LabelEncoder().fit_transform)\n",
        "\n",
        "print(test_X)"
      ]
    },
    {
      "cell_type": "markdown",
      "metadata": {
        "id": "9wiZI76Qkf8H"
      },
      "source": [
        "# 4. Model normalization\n"
      ]
    },
    {
      "cell_type": "code",
      "execution_count": null,
      "metadata": {
        "id": "7tvIrzNGYsYP",
        "colab": {
          "base_uri": "https://localhost:8080/"
        },
        "outputId": "f54f37e1-7292-4e5e-be09-2a025ff466f5"
      },
      "outputs": [
        {
          "output_type": "stream",
          "name": "stdout",
          "text": [
            "           HD      Zeta       TSz        TW\n",
            "0    0.139468  0.033917  0.087079  0.087079\n",
            "1    0.355876  0.021882  0.606742  0.606742\n",
            "2    0.377162  0.018235  0.606742  0.606742\n",
            "3    0.218847  0.036470  0.606742  0.606742\n",
            "4    0.130155  0.054705  0.606742  0.606742\n",
            "..        ...       ...       ...       ...\n",
            "283  0.191796  0.000000  0.286517  0.286517\n",
            "284  0.191796  0.000000  0.286517  0.286517\n",
            "285  0.191796  0.000000  0.286517  0.286517\n",
            "286  0.259424  0.048140  0.157303  0.157303\n",
            "287  0.410200  0.036834  0.044944  0.044944\n",
            "\n",
            "[288 rows x 4 columns]\n"
          ]
        }
      ],
      "source": [
        "from sklearn.pipeline import Pipeline\n",
        "from sklearn.preprocessing import StandardScaler, MinMaxScaler\n",
        "from sklearn.impute import SimpleImputer\n",
        "cols_num = ['HD','Zeta',\"TSz\",\"TW\"]\n",
        "\n",
        "scaler = StandardScaler()\n",
        "mscaler = MinMaxScaler()\n",
        "\n",
        "Data_num_tr = pd.DataFrame(mscaler.fit_transform(test_X[cols_num]))\n",
        "Data_num_tr.columns = list(test_X[cols_num].columns)\n",
        "print(Data_num_tr)"
      ]
    },
    {
      "cell_type": "markdown",
      "metadata": {
        "id": "Ojg8DNmXvhTL"
      },
      "source": [
        "# Onehot encoder"
      ]
    },
    {
      "cell_type": "code",
      "execution_count": null,
      "metadata": {
        "colab": {
          "base_uri": "https://localhost:8080/"
        },
        "id": "EpWvmFhZvkip",
        "outputId": "025f3a7a-0880-4ec5-d185-a57bb083fa4b"
      },
      "outputs": [
        {
          "output_type": "stream",
          "name": "stdout",
          "text": [
            "     TS_0  TS_1  TS_2  TS_3  TM_0  TM_1  TM_2  TM_3  TM_4  CT_0  ...  CT_15  \\\n",
            "0     1.0   0.0   0.0   0.0   0.0   0.0   0.0   1.0   0.0   0.0  ...    0.0   \n",
            "1     0.0   1.0   0.0   0.0   0.0   0.0   0.0   0.0   1.0   0.0  ...    0.0   \n",
            "2     1.0   0.0   0.0   0.0   0.0   0.0   0.0   0.0   1.0   0.0  ...    0.0   \n",
            "3     0.0   1.0   0.0   0.0   0.0   0.0   0.0   0.0   1.0   0.0  ...    0.0   \n",
            "4     0.0   1.0   0.0   0.0   0.0   0.0   0.0   0.0   1.0   0.0  ...    0.0   \n",
            "..    ...   ...   ...   ...   ...   ...   ...   ...   ...   ...  ...    ...   \n",
            "283   0.0   1.0   0.0   0.0   0.0   0.0   0.0   1.0   0.0   0.0  ...    0.0   \n",
            "284   0.0   1.0   0.0   0.0   0.0   0.0   0.0   1.0   0.0   0.0  ...    0.0   \n",
            "285   0.0   1.0   0.0   0.0   0.0   0.0   0.0   1.0   0.0   0.0  ...    0.0   \n",
            "286   0.0   1.0   0.0   0.0   0.0   0.0   0.0   1.0   0.0   0.0  ...    0.0   \n",
            "287   0.0   1.0   0.0   0.0   0.0   1.0   0.0   0.0   0.0   0.0  ...    0.0   \n",
            "\n",
            "     CT_16  CT_17  Shape_0  Shape_1  Shape_2  Shape_3  Shape_4  Shape_5  \\\n",
            "0      0.0    0.0      0.0      0.0      1.0      0.0      0.0      0.0   \n",
            "1      1.0    0.0      0.0      0.0      0.0      0.0      0.0      0.0   \n",
            "2      1.0    0.0      0.0      0.0      0.0      0.0      0.0      0.0   \n",
            "3      1.0    0.0      0.0      0.0      0.0      0.0      0.0      0.0   \n",
            "4      1.0    0.0      0.0      0.0      0.0      0.0      0.0      0.0   \n",
            "..     ...    ...      ...      ...      ...      ...      ...      ...   \n",
            "283    0.0    0.0      0.0      0.0      0.0      0.0      0.0      0.0   \n",
            "284    0.0    0.0      0.0      0.0      0.0      0.0      0.0      0.0   \n",
            "285    0.0    0.0      0.0      0.0      0.0      0.0      0.0      0.0   \n",
            "286    0.0    0.0      0.0      0.0      0.0      0.0      0.0      0.0   \n",
            "287    0.0    0.0      0.0      0.0      0.0      0.0      1.0      0.0   \n",
            "\n",
            "     Shape_6  \n",
            "0        0.0  \n",
            "1        1.0  \n",
            "2        1.0  \n",
            "3        1.0  \n",
            "4        1.0  \n",
            "..       ...  \n",
            "283      1.0  \n",
            "284      1.0  \n",
            "285      1.0  \n",
            "286      1.0  \n",
            "287      0.0  \n",
            "\n",
            "[288 rows x 34 columns]\n"
          ]
        }
      ],
      "source": [
        "from sklearn.preprocessing import OneHotEncoder\n",
        "\n",
        "cat_encoder = OneHotEncoder(sparse=False)\n",
        "cols_label_1hot = ['TS','TM',\"CT\",'Shape']\n",
        "data_cat_1hot = pd.DataFrame(cat_encoder.fit_transform(test_X[cols_label_1hot]))\n",
        "data_cat_1hot.columns = cat_encoder.get_feature_names(cols_label_1hot)\n",
        "\n",
        "print(data_cat_1hot)"
      ]
    },
    {
      "cell_type": "code",
      "execution_count": null,
      "metadata": {
        "colab": {
          "base_uri": "https://localhost:8080/"
        },
        "id": "cbU01eLqx1TY",
        "outputId": "407709d2-a397-4887-a2d0-48fa3da288a4"
      },
      "outputs": [
        {
          "output_type": "stream",
          "name": "stdout",
          "text": [
            "           HD      Zeta       TSz        TW  TS_0  TS_1  TS_2  TS_3  TM_0  \\\n",
            "0    0.139468  0.033917  0.087079  0.087079   1.0   0.0   0.0   0.0   0.0   \n",
            "1    0.355876  0.021882  0.606742  0.606742   0.0   1.0   0.0   0.0   0.0   \n",
            "2    0.377162  0.018235  0.606742  0.606742   1.0   0.0   0.0   0.0   0.0   \n",
            "3    0.218847  0.036470  0.606742  0.606742   0.0   1.0   0.0   0.0   0.0   \n",
            "4    0.130155  0.054705  0.606742  0.606742   0.0   1.0   0.0   0.0   0.0   \n",
            "..        ...       ...       ...       ...   ...   ...   ...   ...   ...   \n",
            "283  0.191796  0.000000  0.286517  0.286517   0.0   1.0   0.0   0.0   0.0   \n",
            "284  0.191796  0.000000  0.286517  0.286517   0.0   1.0   0.0   0.0   0.0   \n",
            "285  0.191796  0.000000  0.286517  0.286517   0.0   1.0   0.0   0.0   0.0   \n",
            "286  0.259424  0.048140  0.157303  0.157303   0.0   1.0   0.0   0.0   0.0   \n",
            "287  0.410200  0.036834  0.044944  0.044944   0.0   1.0   0.0   0.0   0.0   \n",
            "\n",
            "     TM_1  ...  CT_15  CT_16  CT_17  Shape_0  Shape_1  Shape_2  Shape_3  \\\n",
            "0     0.0  ...    0.0    0.0    0.0      0.0      0.0      1.0      0.0   \n",
            "1     0.0  ...    0.0    1.0    0.0      0.0      0.0      0.0      0.0   \n",
            "2     0.0  ...    0.0    1.0    0.0      0.0      0.0      0.0      0.0   \n",
            "3     0.0  ...    0.0    1.0    0.0      0.0      0.0      0.0      0.0   \n",
            "4     0.0  ...    0.0    1.0    0.0      0.0      0.0      0.0      0.0   \n",
            "..    ...  ...    ...    ...    ...      ...      ...      ...      ...   \n",
            "283   0.0  ...    0.0    0.0    0.0      0.0      0.0      0.0      0.0   \n",
            "284   0.0  ...    0.0    0.0    0.0      0.0      0.0      0.0      0.0   \n",
            "285   0.0  ...    0.0    0.0    0.0      0.0      0.0      0.0      0.0   \n",
            "286   0.0  ...    0.0    0.0    0.0      0.0      0.0      0.0      0.0   \n",
            "287   1.0  ...    0.0    0.0    0.0      0.0      0.0      0.0      0.0   \n",
            "\n",
            "     Shape_4  Shape_5  Shape_6  \n",
            "0        0.0      0.0      0.0  \n",
            "1        0.0      0.0      1.0  \n",
            "2        0.0      0.0      1.0  \n",
            "3        0.0      0.0      1.0  \n",
            "4        0.0      0.0      1.0  \n",
            "..       ...      ...      ...  \n",
            "283      0.0      0.0      1.0  \n",
            "284      0.0      0.0      1.0  \n",
            "285      0.0      0.0      1.0  \n",
            "286      0.0      0.0      1.0  \n",
            "287      1.0      0.0      0.0  \n",
            "\n",
            "[288 rows x 38 columns]\n"
          ]
        }
      ],
      "source": [
        "cols_label_bi = ['Type',\"TS\",'Charge']\n",
        "data_cat_bi = test_X[cols_label_bi]\n",
        "preData=pd.concat([Data_num_tr, data_cat_1hot], axis=1)\n",
        "print(preData)"
      ]
    },
    {
      "cell_type": "markdown",
      "metadata": {
        "id": "UuxtXCCMMNqh"
      },
      "source": [
        "# Feature selection"
      ]
    },
    {
      "cell_type": "code",
      "execution_count": null,
      "metadata": {
        "colab": {
          "base_uri": "https://localhost:8080/"
        },
        "id": "5HIlb7ZSMP3u",
        "outputId": "c438ac91-dc69-4438-a936-0089993a7ed9"
      },
      "outputs": [
        {
          "output_type": "stream",
          "name": "stdout",
          "text": [
            "           HD      Zeta  TM_0  TM_3  CT_1  CT_3  CT_5  CT_13  Shape_2  Shape_4\n",
            "0    0.139468  0.033917   0.0   1.0   0.0   0.0   0.0    1.0      1.0      0.0\n",
            "1    0.355876  0.021882   0.0   0.0   0.0   0.0   0.0    0.0      0.0      0.0\n",
            "2    0.377162  0.018235   0.0   0.0   0.0   0.0   0.0    0.0      0.0      0.0\n",
            "3    0.218847  0.036470   0.0   0.0   0.0   0.0   0.0    0.0      0.0      0.0\n",
            "4    0.130155  0.054705   0.0   0.0   0.0   0.0   0.0    0.0      0.0      0.0\n",
            "..        ...       ...   ...   ...   ...   ...   ...    ...      ...      ...\n",
            "283  0.191796  0.000000   0.0   1.0   1.0   0.0   0.0    0.0      0.0      0.0\n",
            "284  0.191796  0.000000   0.0   1.0   1.0   0.0   0.0    0.0      0.0      0.0\n",
            "285  0.191796  0.000000   0.0   1.0   1.0   0.0   0.0    0.0      0.0      0.0\n",
            "286  0.259424  0.048140   0.0   1.0   0.0   0.0   0.0    0.0      0.0      0.0\n",
            "287  0.410200  0.036834   0.0   0.0   0.0   0.0   0.0    0.0      0.0      1.0\n",
            "\n",
            "[288 rows x 10 columns]\n"
          ]
        }
      ],
      "source": [
        "# pearson's correlation feature selection for numeric input and numeric output\n",
        "from sklearn.datasets import make_regression\n",
        "from sklearn.feature_selection import SelectKBest\n",
        "from sklearn.feature_selection import f_regression\n",
        "# generate dataset\n",
        "#X, y = make_regression(n_samples=100, n_features=100, n_informative=10)\n",
        "# define feature selection\n",
        "fs = SelectKBest(score_func=f_regression, k=10)\n",
        "# apply feature selection\n",
        "X_selected = pd.DataFrame(fs.fit_transform(preData, df_y['KTRESmax']))\n",
        "cols = fs.get_feature_names_out()\n",
        "X_selected.columns = cols\n",
        "print(X_selected)"
      ]
    },
    {
      "cell_type": "code",
      "execution_count": null,
      "metadata": {
        "id": "TMV-geDwtEYJ"
      },
      "outputs": [],
      "source": [
        "y_re = df_y['KTRESrelease']\n",
        "X_re = preData"
      ]
    },
    {
      "cell_type": "markdown",
      "metadata": {
        "id": "yFHtUggbvgCs"
      },
      "source": [
        "# LightGbm model with pretest"
      ]
    },
    {
      "cell_type": "code",
      "source": [
        "import pandas as pd\n",
        "import numpy as np\n",
        "from sklearn.ensemble import RandomForestRegressor\n",
        "import xgboost as xgb\n",
        "from sklearn.svm import SVC,SVR\n",
        "import lightgbm as lgb\n",
        "\n",
        "from sklearn.model_selection import KFold\n",
        "from sklearn.metrics import r2_score\n",
        "import warnings\n",
        "warnings.filterwarnings(\"ignore\")\n",
        "\n",
        "from skopt import BayesSearchCV\n",
        "from skopt.callbacks import DeadlineStopper, DeltaYStopper\n",
        "from skopt.space import Real, Categorical, Integer\n",
        "from sklearn.model_selection import RepeatedStratifiedKFold\n",
        "from sklearn.linear_model import Ridge"
      ],
      "metadata": {
        "id": "X_lZyntYcmJG"
      },
      "execution_count": null,
      "outputs": []
    },
    {
      "cell_type": "code",
      "source": [
        "models_to_run = [Ridge(), SVR(), RandomForestRegressor(), xgb.XGBRegressor(), lgb.LGBMRegressor()]\n",
        "\n",
        "model_parm_search = [\n",
        "    { # linear\n",
        "     #'alpha': Real(1e-5, 100, prior='log-uniform'),\n",
        "     \"solver\":Categorical(['svd', 'cholesky', 'lsqr', 'sag']),\n",
        "     'fit_intercept':Categorical([\"True\", \"False\"]),\n",
        "    },\n",
        "    \n",
        "    { # SVR\n",
        "     #'C': Real(1e-6, 1e+6, prior='log-uniform'),\n",
        "     \"kernel\":Categorical(['linear','poly','rbf','sigmoid']),\n",
        "     #'gamma':Real(1e-6, 1e+1, prior='log-uniform'),\n",
        "     \"epsilon\":Integer(0,1),\n",
        "    },\n",
        "\n",
        "    { # 1st parm corresponding to RandomForestRegressor\n",
        "     'max_depth': Integer(3, 12),\n",
        "     'n_estimators': Integer(100, 1000),\n",
        "     'max_features': Integer(10, 34),\n",
        "    },\n",
        "\n",
        "    { # 2nd param grid, corresponding to XGBRegressor\n",
        "     #'learning_rate': Real(1e-4, 1.0, 'log-uniform'),\n",
        "     'colsample_bytree': Real(0.1, 0.9),\n",
        "     'n_estimators': Integer(100, 1000),\n",
        "     'reg_alpha': Real(1, 1.5,'log-uniform'),\n",
        "     'reg_alpha': Real(1, 1.5,'log-uniform'),\n",
        "    },\n",
        "\n",
        "    { # 3rd param grid, corresponding to LGBMRegressor\n",
        "     #'learning_rate': Real(1e-3, 1.0, 'log-uniform'),\n",
        "     'n_estimators': Integer(100, 1000),\n",
        "     'max_depth': Integer(3, 12),\n",
        "     'reg_alpha': Real(1, 1.5,'log-uniform'),\n",
        "     'reg_alpha': Real(1, 1.5,'log-uniform'),\n",
        "    }\n",
        "]"
      ],
      "metadata": {
        "id": "ch6IKH-Rdd89"
      },
      "execution_count": null,
      "outputs": []
    },
    {
      "cell_type": "code",
      "source": [
        "from sklearn.model_selection import train_test_split\n",
        "X_train, X_test, y_train, y_test = train_test_split(X_re, y_re, test_size = 0.2, random_state=2)\n"
      ],
      "metadata": {
        "id": "89WfqJ1VfSpZ"
      },
      "execution_count": null,
      "outputs": []
    },
    {
      "cell_type": "code",
      "source": [
        "from sklearn.metrics import mean_squared_error as mse\n",
        "\n",
        "cv = KFold(n_splits=5, shuffle=True, random_state=7)\n",
        "\n",
        "for i, model in enumerate(models_to_run):\n",
        "   # build the Bayesian search model\n",
        "   bs = BayesSearchCV(\n",
        "       estimator=model,\n",
        "       search_spaces=model_parm_search[i],\n",
        "       cv = cv,\n",
        "       n_iter = 80,\n",
        "       n_jobs = -1, \n",
        "       scoring = \"neg_root_mean_squared_error\",\n",
        "       return_train_score=True,\n",
        "       random_state = 1\n",
        "   )\n",
        "\n",
        "   bs.fit(X_train, y_train)\n",
        "   \n",
        "   model    = bs.best_estimator_\n",
        "   test_preds  = model.predict(X_test)\n",
        "   train_preds = model.predict(X_train)\n",
        "   all_preds  = model.predict(X_re)\n",
        "   y_obs    = y_re.tolist()\n",
        "    \n",
        "   r2_kfolds = cross_val_score(model, X_train, y_train, cv = cv, n_jobs=-1, scoring='r2')\n",
        "   rmse_kfolds = cross_val_score(model, X_train, y_train, cv = cv, n_jobs=-1, scoring='neg_root_mean_squared_error')\n",
        "\n",
        "   print('\\nThe 5-CV rmse Score was:', rmse_kfolds.mean()) \n",
        "   print('With a standard deviation of:', rmse_kfolds.std())\n",
        "   print('Test rmse socre: %.2f' %mse(y_test, test_preds, squared=False))\n",
        "\n",
        "   print('\\nThe 5-CV R2 Score was:', r2_kfolds.mean()) \n",
        "   print('With a standard deviation of:', r2_kfolds.std())\n",
        "   print(\"Test R2 Score : %.2f\" %r2_score(y_test, test_preds))\n",
        "   print(\"Train R2 Score : %.2f\" %r2_score(y_train, train_preds))\n",
        "   print(\"All R2 Score : %.2f\" %r2_score(y_obs, all_preds)) "
      ],
      "metadata": {
        "colab": {
          "base_uri": "https://localhost:8080/",
          "height": 415
        },
        "id": "SKLyptYZe9oU",
        "outputId": "a1f679e6-87a7-4100-92fe-d2064831ab97"
      },
      "execution_count": null,
      "outputs": [
        {
          "output_type": "error",
          "ename": "KeyboardInterrupt",
          "evalue": "ignored",
          "traceback": [
            "\u001b[0;31m---------------------------------------------------------------------------\u001b[0m",
            "\u001b[0;31mKeyboardInterrupt\u001b[0m                         Traceback (most recent call last)",
            "\u001b[0;32m<ipython-input-91-a26f00fc8fce>\u001b[0m in \u001b[0;36m<module>\u001b[0;34m\u001b[0m\n\u001b[1;32m     16\u001b[0m    )\n\u001b[1;32m     17\u001b[0m \u001b[0;34m\u001b[0m\u001b[0m\n\u001b[0;32m---> 18\u001b[0;31m    \u001b[0mbs\u001b[0m\u001b[0;34m.\u001b[0m\u001b[0mfit\u001b[0m\u001b[0;34m(\u001b[0m\u001b[0mX_train\u001b[0m\u001b[0;34m,\u001b[0m \u001b[0my_train\u001b[0m\u001b[0;34m)\u001b[0m\u001b[0;34m\u001b[0m\u001b[0;34m\u001b[0m\u001b[0m\n\u001b[0m\u001b[1;32m     19\u001b[0m \u001b[0;34m\u001b[0m\u001b[0m\n\u001b[1;32m     20\u001b[0m    \u001b[0mmodel\u001b[0m    \u001b[0;34m=\u001b[0m \u001b[0mbs\u001b[0m\u001b[0;34m.\u001b[0m\u001b[0mbest_estimator_\u001b[0m\u001b[0;34m\u001b[0m\u001b[0;34m\u001b[0m\u001b[0m\n",
            "\u001b[0;32m/usr/local/lib/python3.7/dist-packages/skopt/searchcv.py\u001b[0m in \u001b[0;36mfit\u001b[0;34m(self, X, y, groups, callback, **fit_params)\u001b[0m\n\u001b[1;32m    464\u001b[0m             \u001b[0mself\u001b[0m\u001b[0;34m.\u001b[0m\u001b[0moptimizer_kwargs_\u001b[0m \u001b[0;34m=\u001b[0m \u001b[0mdict\u001b[0m\u001b[0;34m(\u001b[0m\u001b[0mself\u001b[0m\u001b[0;34m.\u001b[0m\u001b[0moptimizer_kwargs\u001b[0m\u001b[0;34m)\u001b[0m\u001b[0;34m\u001b[0m\u001b[0;34m\u001b[0m\u001b[0m\n\u001b[1;32m    465\u001b[0m \u001b[0;34m\u001b[0m\u001b[0m\n\u001b[0;32m--> 466\u001b[0;31m         \u001b[0msuper\u001b[0m\u001b[0;34m(\u001b[0m\u001b[0;34m)\u001b[0m\u001b[0;34m.\u001b[0m\u001b[0mfit\u001b[0m\u001b[0;34m(\u001b[0m\u001b[0mX\u001b[0m\u001b[0;34m=\u001b[0m\u001b[0mX\u001b[0m\u001b[0;34m,\u001b[0m \u001b[0my\u001b[0m\u001b[0;34m=\u001b[0m\u001b[0my\u001b[0m\u001b[0;34m,\u001b[0m \u001b[0mgroups\u001b[0m\u001b[0;34m=\u001b[0m\u001b[0mgroups\u001b[0m\u001b[0;34m,\u001b[0m \u001b[0;34m**\u001b[0m\u001b[0mfit_params\u001b[0m\u001b[0;34m)\u001b[0m\u001b[0;34m\u001b[0m\u001b[0;34m\u001b[0m\u001b[0m\n\u001b[0m\u001b[1;32m    467\u001b[0m \u001b[0;34m\u001b[0m\u001b[0m\n\u001b[1;32m    468\u001b[0m         \u001b[0;31m# BaseSearchCV never ranked train scores,\u001b[0m\u001b[0;34m\u001b[0m\u001b[0;34m\u001b[0m\u001b[0;34m\u001b[0m\u001b[0m\n",
            "\u001b[0;32m/usr/local/lib/python3.7/dist-packages/sklearn/model_selection/_search.py\u001b[0m in \u001b[0;36mfit\u001b[0;34m(self, X, y, groups, **fit_params)\u001b[0m\n\u001b[1;32m    889\u001b[0m                 \u001b[0;32mreturn\u001b[0m \u001b[0mresults\u001b[0m\u001b[0;34m\u001b[0m\u001b[0;34m\u001b[0m\u001b[0m\n\u001b[1;32m    890\u001b[0m \u001b[0;34m\u001b[0m\u001b[0m\n\u001b[0;32m--> 891\u001b[0;31m             \u001b[0mself\u001b[0m\u001b[0;34m.\u001b[0m\u001b[0m_run_search\u001b[0m\u001b[0;34m(\u001b[0m\u001b[0mevaluate_candidates\u001b[0m\u001b[0;34m)\u001b[0m\u001b[0;34m\u001b[0m\u001b[0;34m\u001b[0m\u001b[0m\n\u001b[0m\u001b[1;32m    892\u001b[0m \u001b[0;34m\u001b[0m\u001b[0m\n\u001b[1;32m    893\u001b[0m             \u001b[0;31m# multimetric is determined here because in the case of a callable\u001b[0m\u001b[0;34m\u001b[0m\u001b[0;34m\u001b[0m\u001b[0;34m\u001b[0m\u001b[0m\n",
            "\u001b[0;32m/usr/local/lib/python3.7/dist-packages/skopt/searchcv.py\u001b[0m in \u001b[0;36m_run_search\u001b[0;34m(self, evaluate_candidates)\u001b[0m\n\u001b[1;32m    512\u001b[0m                 optim_result = self._step(\n\u001b[1;32m    513\u001b[0m                     \u001b[0msearch_space\u001b[0m\u001b[0;34m,\u001b[0m \u001b[0moptimizer\u001b[0m\u001b[0;34m,\u001b[0m\u001b[0;34m\u001b[0m\u001b[0;34m\u001b[0m\u001b[0m\n\u001b[0;32m--> 514\u001b[0;31m                     \u001b[0mevaluate_candidates\u001b[0m\u001b[0;34m,\u001b[0m \u001b[0mn_points\u001b[0m\u001b[0;34m=\u001b[0m\u001b[0mn_points_adjusted\u001b[0m\u001b[0;34m\u001b[0m\u001b[0;34m\u001b[0m\u001b[0m\n\u001b[0m\u001b[1;32m    515\u001b[0m                 )\n\u001b[1;32m    516\u001b[0m                 \u001b[0mn_iter\u001b[0m \u001b[0;34m-=\u001b[0m \u001b[0mn_points\u001b[0m\u001b[0;34m\u001b[0m\u001b[0;34m\u001b[0m\u001b[0m\n",
            "\u001b[0;32m/usr/local/lib/python3.7/dist-packages/skopt/searchcv.py\u001b[0m in \u001b[0;36m_step\u001b[0;34m(self, search_space, optimizer, evaluate_candidates, n_points)\u001b[0m\n\u001b[1;32m    398\u001b[0m         \"\"\"\n\u001b[1;32m    399\u001b[0m         \u001b[0;31m# get parameter values to evaluate\u001b[0m\u001b[0;34m\u001b[0m\u001b[0;34m\u001b[0m\u001b[0;34m\u001b[0m\u001b[0m\n\u001b[0;32m--> 400\u001b[0;31m         \u001b[0mparams\u001b[0m \u001b[0;34m=\u001b[0m \u001b[0moptimizer\u001b[0m\u001b[0;34m.\u001b[0m\u001b[0mask\u001b[0m\u001b[0;34m(\u001b[0m\u001b[0mn_points\u001b[0m\u001b[0;34m=\u001b[0m\u001b[0mn_points\u001b[0m\u001b[0;34m)\u001b[0m\u001b[0;34m\u001b[0m\u001b[0;34m\u001b[0m\u001b[0m\n\u001b[0m\u001b[1;32m    401\u001b[0m \u001b[0;34m\u001b[0m\u001b[0m\n\u001b[1;32m    402\u001b[0m         \u001b[0;31m# convert parameters to python native types\u001b[0m\u001b[0;34m\u001b[0m\u001b[0;34m\u001b[0m\u001b[0;34m\u001b[0m\u001b[0m\n",
            "\u001b[0;32m/usr/local/lib/python3.7/dist-packages/skopt/optimizer/optimizer.py\u001b[0m in \u001b[0;36mask\u001b[0;34m(self, n_points, strategy)\u001b[0m\n\u001b[1;32m    389\u001b[0m         \u001b[0;31m# oiptimizer is simply discarded)\u001b[0m\u001b[0;34m\u001b[0m\u001b[0;34m\u001b[0m\u001b[0;34m\u001b[0m\u001b[0m\n\u001b[1;32m    390\u001b[0m         opt = self.copy(random_state=self.rng.randint(0,\n\u001b[0;32m--> 391\u001b[0;31m                                                       np.iinfo(np.int32).max))\n\u001b[0m\u001b[1;32m    392\u001b[0m \u001b[0;34m\u001b[0m\u001b[0m\n\u001b[1;32m    393\u001b[0m         \u001b[0mX\u001b[0m \u001b[0;34m=\u001b[0m \u001b[0;34m[\u001b[0m\u001b[0;34m]\u001b[0m\u001b[0;34m\u001b[0m\u001b[0;34m\u001b[0m\u001b[0m\n",
            "\u001b[0;32m/usr/local/lib/python3.7/dist-packages/skopt/optimizer/optimizer.py\u001b[0m in \u001b[0;36mcopy\u001b[0;34m(self, random_state)\u001b[0m\n\u001b[1;32m    329\u001b[0m             \u001b[0moptimizer\u001b[0m\u001b[0;34m.\u001b[0m\u001b[0mgains_\u001b[0m \u001b[0;34m=\u001b[0m \u001b[0mnp\u001b[0m\u001b[0;34m.\u001b[0m\u001b[0mcopy\u001b[0m\u001b[0;34m(\u001b[0m\u001b[0mself\u001b[0m\u001b[0;34m.\u001b[0m\u001b[0mgains_\u001b[0m\u001b[0;34m)\u001b[0m\u001b[0;34m\u001b[0m\u001b[0;34m\u001b[0m\u001b[0m\n\u001b[1;32m    330\u001b[0m         \u001b[0;32mif\u001b[0m \u001b[0mself\u001b[0m\u001b[0;34m.\u001b[0m\u001b[0mXi\u001b[0m\u001b[0;34m:\u001b[0m\u001b[0;34m\u001b[0m\u001b[0;34m\u001b[0m\u001b[0m\n\u001b[0;32m--> 331\u001b[0;31m             \u001b[0moptimizer\u001b[0m\u001b[0;34m.\u001b[0m\u001b[0m_tell\u001b[0m\u001b[0;34m(\u001b[0m\u001b[0mself\u001b[0m\u001b[0;34m.\u001b[0m\u001b[0mXi\u001b[0m\u001b[0;34m,\u001b[0m \u001b[0mself\u001b[0m\u001b[0;34m.\u001b[0m\u001b[0myi\u001b[0m\u001b[0;34m)\u001b[0m\u001b[0;34m\u001b[0m\u001b[0;34m\u001b[0m\u001b[0m\n\u001b[0m\u001b[1;32m    332\u001b[0m \u001b[0;34m\u001b[0m\u001b[0m\n\u001b[1;32m    333\u001b[0m         \u001b[0;32mreturn\u001b[0m \u001b[0moptimizer\u001b[0m\u001b[0;34m\u001b[0m\u001b[0;34m\u001b[0m\u001b[0m\n",
            "\u001b[0;32m/usr/local/lib/python3.7/dist-packages/skopt/optimizer/optimizer.py\u001b[0m in \u001b[0;36m_tell\u001b[0;34m(self, x, y, fit)\u001b[0m\n\u001b[1;32m    558\u001b[0m                     \u001b[0mX\u001b[0m\u001b[0;34m=\u001b[0m\u001b[0mX\u001b[0m\u001b[0;34m,\u001b[0m \u001b[0mmodel\u001b[0m\u001b[0;34m=\u001b[0m\u001b[0mest\u001b[0m\u001b[0;34m,\u001b[0m \u001b[0my_opt\u001b[0m\u001b[0;34m=\u001b[0m\u001b[0mnp\u001b[0m\u001b[0;34m.\u001b[0m\u001b[0mmin\u001b[0m\u001b[0;34m(\u001b[0m\u001b[0mself\u001b[0m\u001b[0;34m.\u001b[0m\u001b[0myi\u001b[0m\u001b[0;34m)\u001b[0m\u001b[0;34m,\u001b[0m\u001b[0;34m\u001b[0m\u001b[0;34m\u001b[0m\u001b[0m\n\u001b[1;32m    559\u001b[0m                     \u001b[0macq_func\u001b[0m\u001b[0;34m=\u001b[0m\u001b[0mcand_acq_func\u001b[0m\u001b[0;34m,\u001b[0m\u001b[0;34m\u001b[0m\u001b[0;34m\u001b[0m\u001b[0m\n\u001b[0;32m--> 560\u001b[0;31m                     acq_func_kwargs=self.acq_func_kwargs)\n\u001b[0m\u001b[1;32m    561\u001b[0m                 \u001b[0;31m# Find the minimum of the acquisition function by randomly\u001b[0m\u001b[0;34m\u001b[0m\u001b[0;34m\u001b[0m\u001b[0;34m\u001b[0m\u001b[0m\n\u001b[1;32m    562\u001b[0m                 \u001b[0;31m# sampling points from the space\u001b[0m\u001b[0;34m\u001b[0m\u001b[0;34m\u001b[0m\u001b[0;34m\u001b[0m\u001b[0m\n",
            "\u001b[0;32m/usr/local/lib/python3.7/dist-packages/skopt/acquisition.py\u001b[0m in \u001b[0;36m_gaussian_acquisition\u001b[0;34m(X, model, y_opt, acq_func, return_grad, acq_func_kwargs)\u001b[0m\n\u001b[1;32m     51\u001b[0m             \u001b[0mfunc_and_grad\u001b[0m \u001b[0;34m=\u001b[0m \u001b[0mgaussian_ei\u001b[0m\u001b[0;34m(\u001b[0m\u001b[0mX\u001b[0m\u001b[0;34m,\u001b[0m \u001b[0mmodel\u001b[0m\u001b[0;34m,\u001b[0m \u001b[0my_opt\u001b[0m\u001b[0;34m,\u001b[0m \u001b[0mxi\u001b[0m\u001b[0;34m,\u001b[0m \u001b[0mreturn_grad\u001b[0m\u001b[0;34m)\u001b[0m\u001b[0;34m\u001b[0m\u001b[0;34m\u001b[0m\u001b[0m\n\u001b[1;32m     52\u001b[0m         \u001b[0;32melse\u001b[0m\u001b[0;34m:\u001b[0m\u001b[0;34m\u001b[0m\u001b[0;34m\u001b[0m\u001b[0m\n\u001b[0;32m---> 53\u001b[0;31m             \u001b[0mfunc_and_grad\u001b[0m \u001b[0;34m=\u001b[0m \u001b[0mgaussian_pi\u001b[0m\u001b[0;34m(\u001b[0m\u001b[0mX\u001b[0m\u001b[0;34m,\u001b[0m \u001b[0mmodel\u001b[0m\u001b[0;34m,\u001b[0m \u001b[0my_opt\u001b[0m\u001b[0;34m,\u001b[0m \u001b[0mxi\u001b[0m\u001b[0;34m,\u001b[0m \u001b[0mreturn_grad\u001b[0m\u001b[0;34m)\u001b[0m\u001b[0;34m\u001b[0m\u001b[0;34m\u001b[0m\u001b[0m\n\u001b[0m\u001b[1;32m     54\u001b[0m \u001b[0;34m\u001b[0m\u001b[0m\n\u001b[1;32m     55\u001b[0m         \u001b[0;32mif\u001b[0m \u001b[0mreturn_grad\u001b[0m\u001b[0;34m:\u001b[0m\u001b[0;34m\u001b[0m\u001b[0;34m\u001b[0m\u001b[0m\n",
            "\u001b[0;32m/usr/local/lib/python3.7/dist-packages/skopt/acquisition.py\u001b[0m in \u001b[0;36mgaussian_pi\u001b[0;34m(X, model, y_opt, xi, return_grad)\u001b[0m\n\u001b[1;32m    200\u001b[0m                 return_std_grad=True)\n\u001b[1;32m    201\u001b[0m         \u001b[0;32melse\u001b[0m\u001b[0;34m:\u001b[0m\u001b[0;34m\u001b[0m\u001b[0;34m\u001b[0m\u001b[0m\n\u001b[0;32m--> 202\u001b[0;31m             \u001b[0mmu\u001b[0m\u001b[0;34m,\u001b[0m \u001b[0mstd\u001b[0m \u001b[0;34m=\u001b[0m \u001b[0mmodel\u001b[0m\u001b[0;34m.\u001b[0m\u001b[0mpredict\u001b[0m\u001b[0;34m(\u001b[0m\u001b[0mX\u001b[0m\u001b[0;34m,\u001b[0m \u001b[0mreturn_std\u001b[0m\u001b[0;34m=\u001b[0m\u001b[0;32mTrue\u001b[0m\u001b[0;34m)\u001b[0m\u001b[0;34m\u001b[0m\u001b[0;34m\u001b[0m\u001b[0m\n\u001b[0m\u001b[1;32m    203\u001b[0m \u001b[0;34m\u001b[0m\u001b[0m\n\u001b[1;32m    204\u001b[0m     \u001b[0;31m# check dimensionality of mu, std so we can divide them below\u001b[0m\u001b[0;34m\u001b[0m\u001b[0;34m\u001b[0m\u001b[0;34m\u001b[0m\u001b[0m\n",
            "\u001b[0;32m/usr/local/lib/python3.7/dist-packages/skopt/learning/gaussian_process/gpr.py\u001b[0m in \u001b[0;36mpredict\u001b[0;34m(self, X, return_std, return_cov, return_mean_grad, return_std_grad)\u001b[0m\n\u001b[1;32m    330\u001b[0m                 \u001b[0;31m# Compute variance of predictive distribution\u001b[0m\u001b[0;34m\u001b[0m\u001b[0;34m\u001b[0m\u001b[0;34m\u001b[0m\u001b[0m\n\u001b[1;32m    331\u001b[0m                 \u001b[0my_var\u001b[0m \u001b[0;34m=\u001b[0m \u001b[0mself\u001b[0m\u001b[0;34m.\u001b[0m\u001b[0mkernel_\u001b[0m\u001b[0;34m.\u001b[0m\u001b[0mdiag\u001b[0m\u001b[0;34m(\u001b[0m\u001b[0mX\u001b[0m\u001b[0;34m)\u001b[0m\u001b[0;34m\u001b[0m\u001b[0;34m\u001b[0m\u001b[0m\n\u001b[0;32m--> 332\u001b[0;31m                 \u001b[0my_var\u001b[0m \u001b[0;34m-=\u001b[0m \u001b[0mnp\u001b[0m\u001b[0;34m.\u001b[0m\u001b[0meinsum\u001b[0m\u001b[0;34m(\u001b[0m\u001b[0;34m\"ki,kj,ij->k\"\u001b[0m\u001b[0;34m,\u001b[0m \u001b[0mK_trans\u001b[0m\u001b[0;34m,\u001b[0m \u001b[0mK_trans\u001b[0m\u001b[0;34m,\u001b[0m \u001b[0mK_inv\u001b[0m\u001b[0;34m)\u001b[0m\u001b[0;34m\u001b[0m\u001b[0;34m\u001b[0m\u001b[0m\n\u001b[0m\u001b[1;32m    333\u001b[0m \u001b[0;34m\u001b[0m\u001b[0m\n\u001b[1;32m    334\u001b[0m                 \u001b[0;31m# Check if any of the variances is negative because of\u001b[0m\u001b[0;34m\u001b[0m\u001b[0;34m\u001b[0m\u001b[0;34m\u001b[0m\u001b[0m\n",
            "\u001b[0;32m<__array_function__ internals>\u001b[0m in \u001b[0;36meinsum\u001b[0;34m(*args, **kwargs)\u001b[0m\n",
            "\u001b[0;32m/usr/local/lib/python3.7/dist-packages/numpy/core/einsumfunc.py\u001b[0m in \u001b[0;36meinsum\u001b[0;34m(out, optimize, *operands, **kwargs)\u001b[0m\n\u001b[1;32m   1357\u001b[0m         \u001b[0;32mif\u001b[0m \u001b[0mspecified_out\u001b[0m\u001b[0;34m:\u001b[0m\u001b[0;34m\u001b[0m\u001b[0;34m\u001b[0m\u001b[0m\n\u001b[1;32m   1358\u001b[0m             \u001b[0mkwargs\u001b[0m\u001b[0;34m[\u001b[0m\u001b[0;34m'out'\u001b[0m\u001b[0;34m]\u001b[0m \u001b[0;34m=\u001b[0m \u001b[0mout\u001b[0m\u001b[0;34m\u001b[0m\u001b[0;34m\u001b[0m\u001b[0m\n\u001b[0;32m-> 1359\u001b[0;31m         \u001b[0;32mreturn\u001b[0m \u001b[0mc_einsum\u001b[0m\u001b[0;34m(\u001b[0m\u001b[0;34m*\u001b[0m\u001b[0moperands\u001b[0m\u001b[0;34m,\u001b[0m \u001b[0;34m**\u001b[0m\u001b[0mkwargs\u001b[0m\u001b[0;34m)\u001b[0m\u001b[0;34m\u001b[0m\u001b[0;34m\u001b[0m\u001b[0m\n\u001b[0m\u001b[1;32m   1360\u001b[0m \u001b[0;34m\u001b[0m\u001b[0m\n\u001b[1;32m   1361\u001b[0m     \u001b[0;31m# Check the kwargs to avoid a more cryptic error later, without having to\u001b[0m\u001b[0;34m\u001b[0m\u001b[0;34m\u001b[0m\u001b[0;34m\u001b[0m\u001b[0m\n",
            "\u001b[0;31mKeyboardInterrupt\u001b[0m: "
          ]
        }
      ]
    },
    {
      "cell_type": "markdown",
      "source": [
        "# Deep nerual network model with keras"
      ],
      "metadata": {
        "id": "bRt_8P_6x48L"
      }
    },
    {
      "cell_type": "code",
      "source": [
        "# import basic packages\n",
        "import numpy as np\n",
        "import seaborn as sns\n",
        "import pandas as pd\n",
        "import tensorflow as tf\n",
        "import scikeras\n",
        "from tensorflow import keras\n",
        "import matplotlib.pyplot as plt\n",
        "from mpl_toolkits.axes_grid1 import make_axes_locatable\n",
        "import matplotlib.colors as colors\n",
        "import matplotlib as mpl\n",
        "\n",
        "# import keras related packages\n",
        "from tensorflow import keras\n",
        "from keras.models import Sequential\n",
        "from keras.layers import Dense\n",
        "from keras.layers import Dropout\n",
        "from keras import regularizers \n",
        "from tensorflow.keras.optimizers import Adam, SGD\n",
        "from tensorflow.keras.optimizers.schedules import ExponentialDecay\n",
        "from keras.models import load_model\n",
        "from keras.callbacks import EarlyStopping\n",
        "from keras.wrappers.scikit_learn import KerasRegressor\n",
        "from keras_tuner import BayesianOptimization\n",
        "from tensorflow import keras\n",
        "from tensorflow.keras import layers\n",
        "from keras_tuner import Objective\n",
        "from tensorflow.keras.optimizers import Adam\n"
      ],
      "metadata": {
        "id": "nO6_s9n-x6l9"
      },
      "execution_count": null,
      "outputs": []
    },
    {
      "cell_type": "code",
      "source": [
        "X = X_re.to_numpy()\n",
        "y = y_re.to_numpy()\n",
        "# summarize shape\n",
        "print(X.shape, y.shape)\n"
      ],
      "metadata": {
        "colab": {
          "base_uri": "https://localhost:8080/"
        },
        "id": "9FWITGxXx9wu",
        "outputId": "2d8e5f02-29e0-4c52-bd74-305601557da3"
      },
      "execution_count": null,
      "outputs": [
        {
          "output_type": "stream",
          "name": "stdout",
          "text": [
            "(288, 38) (288,)\n"
          ]
        }
      ]
    },
    {
      "cell_type": "code",
      "source": [
        "from sklearn.model_selection import train_test_split\n",
        "X_train, X_test, y_train, y_test = train_test_split(X, y,test_size = 0.2, random_state=2)"
      ],
      "metadata": {
        "id": "DbJhSWKvx_Sf"
      },
      "execution_count": null,
      "outputs": []
    },
    {
      "cell_type": "markdown",
      "source": [
        "# Tuning Model with Keras Tuner"
      ],
      "metadata": {
        "id": "8-KGR9Q9yBnp"
      }
    },
    {
      "cell_type": "code",
      "source": [
        "def build_model(hp):\n",
        "  model = Sequential()\n",
        "  \n",
        "  # Input layer\n",
        "  model.add(Dense(units = hp.Int('dense-bot', min_value=38, \n",
        "             max_value=512, step=50, default=38),\n",
        "             activation = hp.Choice(\n",
        "                 'dense_activation',\n",
        "                    values=['relu', 'tanh', 'sigmoid'],\n",
        "                    default='relu'),\n",
        "             input_shape=(X.shape[1],)))\n",
        "  \n",
        "\n",
        "  # Tune the number of units in the each dense layer \n",
        "  for i in range (hp.Int('num_dense_layers',1,3)):\n",
        "    model.add(Dense(units=hp.Int('dense_'+str(i), min_value=50, max_value=512, step=25),\n",
        "          activation = hp.Choice('act_l1',['relu','tanh','sigmoid'])))\n",
        "    \n",
        "    # Tune the droput rate in the each dense layer\n",
        "    model.add(Dropout(hp.Float('dropout_'+ str(i), min_value=0.0, max_value=0.5, step=0.1)))\n",
        "\n",
        "  \n",
        "  # add output    \n",
        "  model.add(layers.Dense(1,activation='linear'))\n",
        "\n",
        "  hp_optimizer=hp.Choice('Optimizer', values=['Adam', 'SGD'])\n",
        "  \n",
        "  if hp_optimizer == 'Adam':\n",
        "    hp_learning_rate = hp.Choice('learning_rate', values=[1e-1, 1e-2, 1e-3, 1e-4, 1e-5])\n",
        "  \n",
        "  elif hp_optimizer == 'SGD':\n",
        "     hp_learning_rate = hp.Choice('learning_rate', values=[1e-1, 1e-2, 1e-3, 1e-4, 1e-5])\n",
        "     nesterov=True\n",
        "     momentum=0.9\n",
        "  \n",
        "  model.compile(\n",
        "    optimizer=hp_optimizer,\n",
        "    loss='mse',\n",
        "    metrics=['mse'])\n",
        "  \n",
        "  return model"
      ],
      "metadata": {
        "id": "Gwt-aUZFyCeV"
      },
      "execution_count": null,
      "outputs": []
    },
    {
      "cell_type": "code",
      "source": [
        "# Check if the model code work correctly\n",
        "import keras_tuner\n",
        "build_model(keras_tuner.HyperParameters())\n"
      ],
      "metadata": {
        "colab": {
          "base_uri": "https://localhost:8080/"
        },
        "id": "XdmZuBgzyHBE",
        "outputId": "5ff21e3f-a5ca-4d2c-a5af-71a0a88af1f1"
      },
      "execution_count": null,
      "outputs": [
        {
          "output_type": "execute_result",
          "data": {
            "text/plain": [
              "<keras.engine.sequential.Sequential at 0x7fa5065bc2d0>"
            ]
          },
          "metadata": {},
          "execution_count": 24
        }
      ]
    },
    {
      "cell_type": "code",
      "source": [
        "# seed the random number generator to reproduce the same results\n",
        "from numpy.random import seed\n",
        "seed(1)\n",
        "\n",
        "import tensorflow\n",
        "tensorflow.random.set_seed(2)"
      ],
      "metadata": {
        "id": "PTxiD6iBJpYc"
      },
      "execution_count": null,
      "outputs": []
    },
    {
      "cell_type": "code",
      "source": [
        "tuner_bo = BayesianOptimization(\n",
        "            hypermodel = build_model,\n",
        "            objective = 'val_mse',\n",
        "            max_trials = 10, #90\n",
        "            overwrite = True,\n",
        "            executions_per_trial=1)"
      ],
      "metadata": {
        "id": "XUlYhZk6yIUR"
      },
      "execution_count": null,
      "outputs": []
    },
    {
      "cell_type": "code",
      "source": [
        "tuner_bo.search(X_train, y_train, \n",
        "        validation_data=(X_test, y_test),\n",
        "        batch_size = 64,\n",
        "        epochs = 900, verbose = 0)"
      ],
      "metadata": {
        "id": "dEyDM1SDyR2d",
        "colab": {
          "base_uri": "https://localhost:8080/"
        },
        "outputId": "b8fe96a7-0ca3-402b-c9b2-79e86b7e2d3e"
      },
      "execution_count": null,
      "outputs": [
        {
          "output_type": "stream",
          "name": "stderr",
          "text": [
            "WARNING:tensorflow:Detecting that an object or model or tf.train.Checkpoint is being deleted with unrestored values. See the following logs for the specific values in question. To silence these warnings, use `status.expect_partial()`. See https://www.tensorflow.org/api_docs/python/tf/train/Checkpoint#restorefor details about the status object returned by the restore function.\n",
            "WARNING:tensorflow:Value in checkpoint could not be found in the restored object: (root).optimizer.iter\n",
            "WARNING:tensorflow:Value in checkpoint could not be found in the restored object: (root).optimizer.beta_1\n",
            "WARNING:tensorflow:Value in checkpoint could not be found in the restored object: (root).optimizer.beta_2\n",
            "WARNING:tensorflow:Value in checkpoint could not be found in the restored object: (root).optimizer.decay\n",
            "WARNING:tensorflow:Value in checkpoint could not be found in the restored object: (root).optimizer.learning_rate\n"
          ]
        }
      ]
    },
    {
      "cell_type": "code",
      "source": [
        "# Get the top 2 models\n",
        "best_params=tuner_bo.get_best_hyperparameters()\n",
        "best_params[0].values"
      ],
      "metadata": {
        "colab": {
          "base_uri": "https://localhost:8080/"
        },
        "id": "kezHsC4cyVCv",
        "outputId": "ec758058-82a9-457a-a14d-342f9b5213bd"
      },
      "execution_count": null,
      "outputs": [
        {
          "output_type": "execute_result",
          "data": {
            "text/plain": [
              "{'dense-bot': 38,\n",
              " 'dense_activation': 'relu',\n",
              " 'num_dense_layers': 3,\n",
              " 'dense_0': 500,\n",
              " 'act_l1': 'relu',\n",
              " 'dropout_0': 0.1,\n",
              " 'Optimizer': 'SGD',\n",
              " 'learning_rate': 1e-05,\n",
              " 'dense_1': 500,\n",
              " 'dropout_1': 0.5,\n",
              " 'dense_2': 50,\n",
              " 'dropout_2': 0.5}"
            ]
          },
          "metadata": {},
          "execution_count": 73
        }
      ]
    },
    {
      "cell_type": "code",
      "source": [
        "best_model=tuner_bo.get_best_models()[0]\n",
        "best_model.summary()\n"
      ],
      "metadata": {
        "colab": {
          "base_uri": "https://localhost:8080/"
        },
        "id": "eNO8jvOzyZMD",
        "outputId": "fa3e48d2-60f8-4d9b-f15b-4573b785dcbc"
      },
      "execution_count": null,
      "outputs": [
        {
          "output_type": "stream",
          "name": "stdout",
          "text": [
            "Model: \"sequential\"\n",
            "_________________________________________________________________\n",
            " Layer (type)                Output Shape              Param #   \n",
            "=================================================================\n",
            " dense (Dense)               (None, 38)                1482      \n",
            "                                                                 \n",
            " dense_1 (Dense)             (None, 500)               19500     \n",
            "                                                                 \n",
            " dropout (Dropout)           (None, 500)               0         \n",
            "                                                                 \n",
            " dense_2 (Dense)             (None, 500)               250500    \n",
            "                                                                 \n",
            " dropout_1 (Dropout)         (None, 500)               0         \n",
            "                                                                 \n",
            " dense_3 (Dense)             (None, 50)                25050     \n",
            "                                                                 \n",
            " dropout_2 (Dropout)         (None, 50)                0         \n",
            "                                                                 \n",
            " dense_4 (Dense)             (None, 1)                 51        \n",
            "                                                                 \n",
            "=================================================================\n",
            "Total params: 296,583\n",
            "Trainable params: 296,583\n",
            "Non-trainable params: 0\n",
            "_________________________________________________________________\n"
          ]
        }
      ]
    },
    {
      "cell_type": "code",
      "source": [
        "from sklearn.metrics import r2_score\n",
        "best_model = tuner_bo.get_best_models()[0] \n",
        "\n",
        "test_preds = best_model.predict(X_test)\n",
        "train_preds = best_model.predict(X_train)\n",
        "all_preds  = best_model.predict(X_re)\n",
        "y_obs    = y_re.tolist()\n",
        "\n",
        "print(\"\\nTest R2 Score : %.2f\" %r2_score(y_test, test_preds))\n",
        "print(\"Train R2 Score : %.2f\" %r2_score(y_train, train_preds))\n",
        "print(\"All R2 Score : %.2f\" %r2_score(y_obs, all_preds))\n",
        "print('Test rmse socre: %.2f' %mse(y_test, test_preds, squared=False))\n"
      ],
      "metadata": {
        "colab": {
          "base_uri": "https://localhost:8080/"
        },
        "id": "lXuWobZLykBo",
        "outputId": "c7876505-f381-4895-e3ef-b18fe584b8b4"
      },
      "execution_count": null,
      "outputs": [
        {
          "output_type": "stream",
          "name": "stdout",
          "text": [
            "\r1/2 [==============>...............] - ETA: 0s"
          ]
        },
        {
          "output_type": "stream",
          "name": "stderr",
          "text": [
            "WARNING:tensorflow:Detecting that an object or model or tf.train.Checkpoint is being deleted with unrestored values. See the following logs for the specific values in question. To silence these warnings, use `status.expect_partial()`. See https://www.tensorflow.org/api_docs/python/tf/train/Checkpoint#restorefor details about the status object returned by the restore function.\n",
            "WARNING:tensorflow:Value in checkpoint could not be found in the restored object: (root).optimizer.iter\n"
          ]
        },
        {
          "output_type": "stream",
          "name": "stdout",
          "text": [
            "\b\b\b\b\b\b\b\b\b\b\b\b\b\b\b\b\b\b\b\b\b\b\b\b\b\b\b\b\b\b\b\b\b\b\b\b\b\b\b\b\b\b\b\b\b\b\r2/2 [==============================] - 0s 10ms/step\n"
          ]
        },
        {
          "output_type": "stream",
          "name": "stderr",
          "text": [
            "WARNING:tensorflow:Value in checkpoint could not be found in the restored object: (root).optimizer.decay\n",
            "WARNING:tensorflow:Value in checkpoint could not be found in the restored object: (root).optimizer.learning_rate\n",
            "WARNING:tensorflow:Value in checkpoint could not be found in the restored object: (root).optimizer.momentum\n"
          ]
        },
        {
          "output_type": "stream",
          "name": "stdout",
          "text": [
            "8/8 [==============================] - 0s 2ms/step\n",
            "9/9 [==============================] - 0s 2ms/step\n",
            "\n",
            "Test R2 Score : 0.45\n",
            "Train R2 Score : 0.64\n",
            "All R2 Score : 0.59\n",
            "Test rmse socre: 1.89\n"
          ]
        }
      ]
    },
    {
      "cell_type": "code",
      "source": [
        "# save model and architecture to single file\n",
        "#best_model.save(\"KTRESrel_best_model.h5\")\n",
        "#print(\"Saved model to disk\")"
      ],
      "metadata": {
        "colab": {
          "base_uri": "https://localhost:8080/"
        },
        "id": "Lko-_Von11Ri",
        "outputId": "ca37b3fb-2256-418d-ac5c-f65495696273"
      },
      "execution_count": null,
      "outputs": [
        {
          "output_type": "stream",
          "name": "stdout",
          "text": [
            "Saved model to disk\n"
          ]
        }
      ]
    },
    {
      "cell_type": "code",
      "source": [
        "best_model_v2 = load_model('KTRESrel_best_model.h5')\n",
        "test_preds_v2 = best_model_v2.predict(X_test)\n",
        "train_preds_v2 = best_model_v2.predict(X_train)\n",
        "all_preds_v2  = best_model_v2.predict(X_re)\n",
        "y_obs    = y_re.tolist()\n",
        "\n",
        "print(\"\\nTest R2 Score : %.2f\" %r2_score(y_test, test_preds_v2))\n",
        "print(\"Train R2 Score : %.2f\" %r2_score(y_train, train_preds_v2))\n",
        "print(\"All R2 Score : %.2f\" %r2_score(y_obs, all_preds_v2))\n",
        "print('Test rmse socre: %.2f' %mse(y_test, test_preds, squared=False))"
      ],
      "metadata": {
        "colab": {
          "base_uri": "https://localhost:8080/"
        },
        "id": "NAoYKpTs176g",
        "outputId": "c0044fc9-7adc-4d31-d155-97a2a4f3f0b8"
      },
      "execution_count": null,
      "outputs": [
        {
          "output_type": "stream",
          "name": "stderr",
          "text": [
            "WARNING:tensorflow:Error in loading the saved optimizer state. As a result, your model is starting with a freshly initialized optimizer.\n"
          ]
        },
        {
          "output_type": "stream",
          "name": "stdout",
          "text": [
            "2/2 [==============================] - 0s 11ms/step\n",
            "8/8 [==============================] - 0s 4ms/step\n",
            "9/9 [==============================] - 0s 13ms/step\n",
            "\n",
            "Test R2 Score : 0.47\n",
            "Train R2 Score : 0.97\n",
            "All R2 Score : 0.84\n",
            "Test rmse socre: 2.28\n"
          ]
        }
      ]
    },
    {
      "cell_type": "markdown",
      "source": [
        "# Display the R-squared value on scatterplot with regression model "
      ],
      "metadata": {
        "id": "SVleOpWH5clC"
      }
    },
    {
      "cell_type": "code",
      "source": [
        "import matplotlib.pyplot as plt\n",
        "\n",
        "# create basic catterplot\n",
        "plt.plot(y_obs, all_preds,'o')\n",
        "\n",
        "# obtain m (slope) and b(intercept) of linear regression line\n",
        "m, b = np.polyfit(y_obs, all_preds, 1)\n",
        "\n",
        "# add linear regression line to scatterplot\n",
        "plt.plot(y_obs, m*y_obs+b)"
      ],
      "metadata": {
        "id": "scO54-jL4Un-",
        "colab": {
          "base_uri": "https://localhost:8080/",
          "height": 448
        },
        "outputId": "cc9407de-fba0-4fbb-847b-8d80ef11cb62"
      },
      "execution_count": null,
      "outputs": [
        {
          "output_type": "error",
          "ename": "TypeError",
          "evalue": "ignored",
          "traceback": [
            "\u001b[0;31m---------------------------------------------------------------------------\u001b[0m",
            "\u001b[0;31mTypeError\u001b[0m                                 Traceback (most recent call last)",
            "\u001b[0;32m<ipython-input-96-2e8be8293c71>\u001b[0m in \u001b[0;36m<module>\u001b[0;34m\u001b[0m\n\u001b[1;32m      8\u001b[0m \u001b[0;34m\u001b[0m\u001b[0m\n\u001b[1;32m      9\u001b[0m \u001b[0;31m# add linear regression line to scatterplot\u001b[0m\u001b[0;34m\u001b[0m\u001b[0;34m\u001b[0m\u001b[0;34m\u001b[0m\u001b[0m\n\u001b[0;32m---> 10\u001b[0;31m \u001b[0mplt\u001b[0m\u001b[0;34m.\u001b[0m\u001b[0mplot\u001b[0m\u001b[0;34m(\u001b[0m\u001b[0my_obs\u001b[0m\u001b[0;34m,\u001b[0m \u001b[0mm\u001b[0m\u001b[0;34m*\u001b[0m\u001b[0my_obs\u001b[0m\u001b[0;34m+\u001b[0m\u001b[0mb\u001b[0m\u001b[0;34m)\u001b[0m\u001b[0;34m\u001b[0m\u001b[0;34m\u001b[0m\u001b[0m\n\u001b[0m",
            "\u001b[0;31mTypeError\u001b[0m: can't multiply sequence by non-int of type 'numpy.float64'"
          ]
        },
        {
          "output_type": "display_data",
          "data": {
            "text/plain": [
              "<Figure size 432x288 with 1 Axes>"
            ],
            "image/png": "[encoded data removed]"
          },
          "metadata": {
            "needs_background": "light"
          }
        }
      ]
    },
    {
      "cell_type": "markdown",
      "source": [
        "# K-fold cross validation"
      ],
      "metadata": {
        "id": "ILUQIgT0ymxw"
      }
    },
    {
      "cell_type": "code",
      "source": [
        "from sklearn.model_selection import KFold\n",
        "from sklearn.metrics import mean_squared_error as mse\n",
        "\n",
        "\n",
        "dnn_best_model = best_model_v2 \n",
        "\n",
        "kfold = KFold(n_splits=5, shuffle=True, random_state=2)\n",
        "cvr2scores = []\n",
        "cvrmsescores = []\n",
        "\n",
        "for train_ix, test_ix in kfold.split(X_train):\n",
        "  # split data\n",
        "  X_trian_n, X_test_n = X_train[train_ix], X_train[test_ix]\n",
        "  y_trian_n, y_test_n = y_train[train_ix], y_train[test_ix]\n",
        "  # create model\n",
        "  \n",
        "  dnn_best_model.fit(X_trian_n,y_trian_n, epochs=600, batch_size=64, verbose=0)\n",
        "  test_pred = dnn_best_model.predict(X_test_n)\n",
        "  r2score = r2_score(y_test_n, test_pred)\n",
        "  rmse   = mse(y_test_n, test_pred,squared=False)\n",
        "\n",
        "  #print(\"Test R2 Score : %.2f\" %r2score)\n",
        "  #print(\"Test RMSE Score : %.2f\" %rmse)\n",
        "  \n",
        "  cvr2scores.append(r2score)\n",
        "  cvrmsescores.append(rmse)\n",
        "\n",
        "print(\"The 5-cv r2 Score was: %.2f (+/-) %.2f\" % (np.mean(cvr2scores), np.std(cvr2scores)))\n",
        "print(\"The 5-cv rmse Score was: %.2f (+/-) %.2f\" % (np.mean(cvrmsescores), np.std(cvrmsescores)))\n"
      ],
      "metadata": {
        "id": "gSjw4h-Wyn6E",
        "colab": {
          "base_uri": "https://localhost:8080/"
        },
        "outputId": "7ceec884-5cee-415b-9d35-9e13bf03419a"
      },
      "execution_count": null,
      "outputs": [
        {
          "output_type": "stream",
          "name": "stdout",
          "text": [
            "2/2 [==============================] - 0s 9ms/step\n",
            "2/2 [==============================] - 0s 11ms/step\n"
          ]
        }
      ]
    },
    {
      "cell_type": "markdown",
      "source": [
        "# Save predicted values (to csv file)"
      ],
      "metadata": {
        "id": "28jmKkRQ7qaN"
      }
    },
    {
      "cell_type": "code",
      "source": [
        "PredKmax = pd.concat([pd.DataFrame(Data.dropna()[\"ID\"].reset_index(drop=True)), pd.DataFrame(y_obs), pd.DataFrame(all_preds)], axis = 1)\n",
        "PredKmax.columns = [\"ID\",\"KTRESrelease\", \"Pred_KTRESrelease\"]\n",
        "PredKmax.to_csv('output_KTRESrelease.csv', encoding = 'utf-8-sig',index=False)"
      ],
      "metadata": {
        "id": "qxKEfAq77tBG"
      },
      "execution_count": null,
      "outputs": []
    }
  ],
  "metadata": {
    "colab": {
      "provenance": []
    },
    "gpuClass": "standard",
    "kernelspec": {
      "display_name": "Python 3",
      "name": "python3"
    },
    "language_info": {
      "name": "python"
    }
  },
  "nbformat": 4,
  "nbformat_minor": 0
}